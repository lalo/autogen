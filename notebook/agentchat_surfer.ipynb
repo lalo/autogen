{
 "cells": [
  {
   "attachments": {},
   "cell_type": "markdown",
   "metadata": {},
   "source": [
    "# WebSurferAgent\n",
    "\n",
    "AutoGen provides a proof-of-concept WebSurferAgent that can command a simple text-based browser (similar to [Lynx](https://en.wikipedia.org/wiki/Lynx_(web_browser))) to search the web, visit pages, navigate within pages, download files, etc. The browsing is stateful, meaning that browsing history, viewport state, and other details are maintained throughout the conversation. \n",
    "\n",
    "This work was largely inspired by OpenAI's [WebGPT](https://openai.com/research/webgpt) project from December 2021. \n",
    "\n",
    "## Requirements\n",
    "\n",
    "AutoGen requires `Python>=3.8`. To run this notebook example, please install AutoGen with the optional `websurfer` dependencies:\n",
    "```bash\n",
    "pip install \"pyautogen[websurfer]\"\n",
    "```"
   ]
  },
  {
   "cell_type": "code",
   "execution_count": 3,
   "metadata": {},
   "outputs": [],
   "source": [
    "# %pip install --quiet \"pyautogen[websurfer]\""
   ]
  },
  {
   "attachments": {},
   "cell_type": "markdown",
   "metadata": {},
   "source": [
    "## Set your API Endpoint\n",
    "\n",
    "The [`config_list_from_json`](https://microsoft.github.io/autogen/docs/reference/oai/openai_utils#config_list_from_json) function loads a list of configurations from an environment variable or a json file.\n",
    "\n",
    "It first looks for environment variable \"OAI_CONFIG_LIST\" which needs to be a valid json string. If that variable is not found, it then looks for a json file named \"OAI_CONFIG_LIST\". It filters the configs by models (you can filter by other keys as well).\n",
    "\n",
    "The WebSurferAgent uses a combination of models. GPT-4 and GPT-3.5-turbo-16 are recommended.\n",
    "\n",
    "Your json config should look something like the following:\n",
    "```json\n",
    "[\n",
    "    {\n",
    "        \"model\": \"gpt-4\",\n",
    "        \"api_key\": \"<your OpenAI API key here>\"\n",
    "    },\n",
    "    {\n",
    "        \"model\": \"gpt-3.5-turbo-16k\",\n",
    "        \"api_key\": \"<your OpenAI API key here>\"\n",
    "    }\n",
    "]\n",
    "```\n",
    "\n",
    "If you open this notebook in colab, you can upload your files by clicking the file icon on the left panel and then choose \"upload file\" icon.\n"
   ]
  },
  {
   "cell_type": "code",
   "execution_count": 4,
   "metadata": {},
   "outputs": [],
   "source": [
    "import autogen  # noqa: E402\n",
    "\n",
    "llm_config = {\n",
    "    \"timeout\": 600,\n",
    "    \"cache_seed\": 44,  # change the seed for different trials\n",
    "    \"config_list\": autogen.config_list_from_json(\n",
    "        \"OAI_CONFIG_LIST\",\n",
    "        filter_dict={\"model\": [\"gpt-4\", \"gpt-4-0613\", \"gpt-4-32k\", \"gpt-4-32k-0613\", \"gpt-4-1106-preview\"]},\n",
    "    ),\n",
    "    \"temperature\": 0,\n",
    "}\n",
    "\n",
    "summarizer_llm_config = {\n",
    "    \"timeout\": 600,\n",
    "    \"cache_seed\": 44,  # change the seed for different trials\n",
    "    \"config_list\": autogen.config_list_from_json(\n",
    "        \"OAI_CONFIG_LIST\",\n",
    "        filter_dict={\"model\": [\"gpt-3.5-turbo-1106\", \"gpt-3.5-turbo-16k-0613\", \"gpt-3.5-turbo-16k\"]},\n",
    "    ),\n",
    "    \"temperature\": 0,\n",
    "}"
   ]
  },
  {
   "cell_type": "markdown",
   "metadata": {},
   "source": [
    "## Configure Bing\n",
    "\n",
    "For WebSurferAgent to be reasonably useful, it needs to be able to search the web -- and that means it needs a Bing API key. \n",
    "You can read more about how to get an API on the [Bing Web Search API](https://www.microsoft.com/en-us/bing/apis/bing-web-search-api) page.\n",
    "\n",
    "Once you have your key, either set it as the `BING_API_KEY` system environment variable, or simply input your key below.\n"
   ]
  },
  {
   "cell_type": "code",
   "execution_count": 5,
   "metadata": {},
   "outputs": [],
   "source": [
    "import os  # noqa: E402\n",
    "\n",
    "bing_api_key = os.environ[\"BING_API_KEY\"]"
   ]
  },
  {
   "attachments": {},
   "cell_type": "markdown",
   "metadata": {},
   "source": [
    "### Construct Agents\n",
    "\n",
    "We now create out WebSurferAgent, and a UserProxyAgent to surf the web. "
   ]
  },
  {
   "cell_type": "code",
   "execution_count": 6,
   "metadata": {
    "scrolled": true
   },
   "outputs": [],
   "source": [
    "from autogen.agentchat.contrib.web_surfer import WebSurferAgent  # noqa: E402\n",
    "\n",
    "web_surfer = WebSurferAgent(\n",
    "    \"web_surfer\",\n",
    "    llm_config=llm_config,\n",
    "    summarizer_llm_config=summarizer_llm_config,\n",
    "    browser_config={\"viewport_size\": 4096, \"bing_api_key\": bing_api_key},\n",
    ")\n",
    "\n",
    "user_proxy = autogen.UserProxyAgent(\n",
    "    \"user_proxy\",\n",
    "    human_input_mode=\"NEVER\",\n",
    "    code_execution_config=False,\n",
    "    default_auto_reply=\"\",\n",
    "    is_termination_msg=lambda x: True,\n",
    ")"
   ]
  },
  {
   "attachments": {},
   "cell_type": "markdown",
   "metadata": {},
   "source": [
    "### Example 1: Search, summarize\n",
    "- Search for information aobut Microsoft AutoGen\n",
    "- Summarize the results\n",
    "- Visit the Getting Started Docs page"
   ]
  },
  {
   "cell_type": "code",
   "execution_count": 7,
   "metadata": {},
   "outputs": [
    {
     "name": "stdout",
     "output_type": "stream",
     "text": [
      "\u001b[33muser_proxy\u001b[0m (to web_surfer):\n",
      "\n",
      "\n",
      "Search the web for information about Microsoft AutoGen\n",
      "\n",
      "\n",
      "--------------------------------------------------------------------------------\n",
      "\u001b[31m\n",
      ">>>>>>>> USING AUTO REPLY...\u001b[0m\n",
      "\u001b[35m\n",
      ">>>>>>>> EXECUTING FUNCTION informational_web_search...\u001b[0m\n",
      "\u001b[33mweb_surfer\u001b[0m (to user_proxy):\n",
      "\n",
      "Address: bing: Microsoft AutoGen\n",
      "Title: Microsoft AutoGen - Search\n",
      "Viewport position: Showing page 1 of 1.\n",
      "=======================\n",
      "A Bing search for 'Microsoft AutoGen' found 9 results:\n",
      "\n",
      "## Web Results\n",
      "1. [AutoGen: Enabling next-generation large language model applications](https://www.microsoft.com/en-us/research/blog/autogen-enabling-next-generation-large-language-model-applications/)\n",
      "AutoGen is a Python package that simplifies the orchestration, optimization, and automation of large language model applications. It enables customizable and conversable agents that integrate with humans, tools, and other agents to solve tasks using GPT-4 and other advanced LLMs. Learn how to use AutoGen for code-based question answering, supply-chain optimization, conversational chess, and more.\n",
      "\n",
      "2. [AutoGen - Microsoft Research](https://www.microsoft.com/en-us/research/project/autogen/)\n",
      "AutoGen is an open-source, community-driven project under active development (as a spinoff from FLAML, a fast library for automated machine learning and tuning), which encourages contributions from individuals of all backgrounds. Many Microsoft Research collaborators have made great contributions to this project, including academic contributors like Pennsylvania State University and the University of Washington, and product teams like Microsoft Fabric and ML.NET. AutoGen aims to provide an ...\n",
      "\n",
      "3. [AutoGen: Downloads - Microsoft Research](https://www.microsoft.com/en-us/research/project/autogen/downloads/)\n",
      "AutoGen. September 2023. Enable Next-Gen Large Language Model Applications. AutoGen is a framework that enables the development of LLM applications using multiple agents that can converse with each other to solve tasks. AutoGen agents are customizable, conversable, and seamlessly allow human participation. They….\n",
      "\n",
      "4. [GitHub - microsoft/autogen: Enable Next-Gen Large Language Model ...](https://github.com/microsoft/autogen)\n",
      "AutoGen is a framework that enables the development of large language model applications using multiple agents that can converse with each other to solve tasks. It supports diverse conversation patterns, enhanced LLM inference, and customizable and conversable agents.\n",
      "\n",
      "5. [Getting Started | AutoGen - microsoft.github.io](https://microsoft.github.io/autogen/docs/Getting-Started/)\n",
      "Getting Started. AutoGen is a framework that enables development of LLM applications using multiple agents that can converse with each other to solve tasks. AutoGen agents are customizable, conversable, and seamlessly allow human participation. They can operate in various modes that employ combinations of LLMs, human inputs, and tools.\n",
      "\n",
      "6. [AutoGen | AutoGen - microsoft.github.io](https://microsoft.github.io/autogen/)\n",
      "AutoGen is a tool that enables next-gen large language model applications by providing a high-level abstraction for building diverse and enhanced LLM workflows. It offers a collection of working systems for various domains and complexities, as well as enhanced LLM inference and optimization APIs.\n",
      "\n",
      "7. [AutoGen - Microsoft Research](https://www.microsoft.com/en-us/research/project/autogen/)\n",
      "AutoGen is an open-source, community-driven project under active development (as a spinoff from FLAML, a fast library for automated machine learning and tuning), which encourages contributions from individuals of all backgrounds. Many Microsoft Research collaborators have made great contributions to this project, including academic contributors like Pennsylvania State University and the University of Washington, and product teams like Microsoft Fabric and ML.NET. AutoGen aims to provide an ...\n",
      "\n",
      "8. [AutoGen: Downloads - Microsoft Research](https://www.microsoft.com/en-us/research/project/autogen/downloads/)\n",
      "AutoGen. September 2023. Enable Next-Gen Large Language Model Applications. AutoGen is a framework that enables the development of LLM applications using multiple agents that can converse with each other to solve tasks. AutoGen agents are customizable, conversable, and seamlessly allow human participation. They….\n",
      "\n",
      "9. [AutoGen Studio: Interactively Explore Multi-Agent Workflows](https://microsoft.github.io/autogen/blog/2023/12/01/AutoGenStudio/)\n",
      "To help you rapidly prototype multi-agent solutions for your tasks, we are introducing AutoGen Studio, an interface powered by AutoGen. It allows you to: Declaratively define and modify agents and multi-agent workflows through a point and click, drag and drop interface (e.g., you can select the parameters of two agents that will communicate to ...\n",
      "\n",
      "--------------------------------------------------------------------------------\n"
     ]
    },
    {
     "data": {
      "text/plain": [
       "ChatResult(chat_id=None, chat_history=[{'content': '\\nSearch the web for information about Microsoft AutoGen\\n', 'role': 'assistant'}, {'content': \"Address: bing: Microsoft AutoGen\\nTitle: Microsoft AutoGen - Search\\nViewport position: Showing page 1 of 1.\\n=======================\\nA Bing search for 'Microsoft AutoGen' found 9 results:\\n\\n## Web Results\\n1. [AutoGen: Enabling next-generation large language model applications](https://www.microsoft.com/en-us/research/blog/autogen-enabling-next-generation-large-language-model-applications/)\\nAutoGen is a Python package that simplifies the orchestration, optimization, and automation of large language model applications. It enables customizable and conversable agents that integrate with humans, tools, and other agents to solve tasks using GPT-4 and other advanced LLMs. Learn how to use AutoGen for code-based question answering, supply-chain optimization, conversational chess, and more.\\n\\n2. [AutoGen - Microsoft Research](https://www.microsoft.com/en-us/research/project/autogen/)\\nAutoGen is an open-source, community-driven project under active development (as a spinoff from FLAML, a fast library for automated machine learning and tuning), which encourages contributions from individuals of all backgrounds. Many Microsoft Research collaborators have made great contributions to this project, including academic contributors like Pennsylvania State University and the University of Washington, and product teams like Microsoft Fabric and ML.NET. AutoGen aims to provide an ...\\n\\n3. [AutoGen: Downloads - Microsoft Research](https://www.microsoft.com/en-us/research/project/autogen/downloads/)\\nAutoGen. September 2023. Enable Next-Gen Large Language Model Applications. AutoGen is a framework that enables the development of LLM applications using multiple agents that can converse with each other to solve tasks. AutoGen agents are customizable, conversable, and seamlessly allow human participation. They….\\n\\n4. [GitHub - microsoft/autogen: Enable Next-Gen Large Language Model ...](https://github.com/microsoft/autogen)\\nAutoGen is a framework that enables the development of large language model applications using multiple agents that can converse with each other to solve tasks. It supports diverse conversation patterns, enhanced LLM inference, and customizable and conversable agents.\\n\\n5. [Getting Started | AutoGen - microsoft.github.io](https://microsoft.github.io/autogen/docs/Getting-Started/)\\nGetting Started. AutoGen is a framework that enables development of LLM applications using multiple agents that can converse with each other to solve tasks. AutoGen agents are customizable, conversable, and seamlessly allow human participation. They can operate in various modes that employ combinations of LLMs, human inputs, and tools.\\n\\n6. [AutoGen | AutoGen - microsoft.github.io](https://microsoft.github.io/autogen/)\\nAutoGen is a tool that enables next-gen large language model applications by providing a high-level abstraction for building diverse and enhanced LLM workflows. It offers a collection of working systems for various domains and complexities, as well as enhanced LLM inference and optimization APIs.\\n\\n7. [AutoGen - Microsoft Research](https://www.microsoft.com/en-us/research/project/autogen/)\\nAutoGen is an open-source, community-driven project under active development (as a spinoff from FLAML, a fast library for automated machine learning and tuning), which encourages contributions from individuals of all backgrounds. Many Microsoft Research collaborators have made great contributions to this project, including academic contributors like Pennsylvania State University and the University of Washington, and product teams like Microsoft Fabric and ML.NET. AutoGen aims to provide an ...\\n\\n8. [AutoGen: Downloads - Microsoft Research](https://www.microsoft.com/en-us/research/project/autogen/downloads/)\\nAutoGen. September 2023. Enable Next-Gen Large Language Model Applications. AutoGen is a framework that enables the development of LLM applications using multiple agents that can converse with each other to solve tasks. AutoGen agents are customizable, conversable, and seamlessly allow human participation. They….\\n\\n9. [AutoGen Studio: Interactively Explore Multi-Agent Workflows](https://microsoft.github.io/autogen/blog/2023/12/01/AutoGenStudio/)\\nTo help you rapidly prototype multi-agent solutions for your tasks, we are introducing AutoGen Studio, an interface powered by AutoGen. It allows you to: Declaratively define and modify agents and multi-agent workflows through a point and click, drag and drop interface (e.g., you can select the parameters of two agents that will communicate to ...\", 'role': 'user'}], summary=\"Address: bing: Microsoft AutoGen\\nTitle: Microsoft AutoGen - Search\\nViewport position: Showing page 1 of 1.\\n=======================\\nA Bing search for 'Microsoft AutoGen' found 9 results:\\n\\n## Web Results\\n1. [AutoGen: Enabling next-generation large language model applications](https://www.microsoft.com/en-us/research/blog/autogen-enabling-next-generation-large-language-model-applications/)\\nAutoGen is a Python package that simplifies the orchestration, optimization, and automation of large language model applications. It enables customizable and conversable agents that integrate with humans, tools, and other agents to solve tasks using GPT-4 and other advanced LLMs. Learn how to use AutoGen for code-based question answering, supply-chain optimization, conversational chess, and more.\\n\\n2. [AutoGen - Microsoft Research](https://www.microsoft.com/en-us/research/project/autogen/)\\nAutoGen is an open-source, community-driven project under active development (as a spinoff from FLAML, a fast library for automated machine learning and tuning), which encourages contributions from individuals of all backgrounds. Many Microsoft Research collaborators have made great contributions to this project, including academic contributors like Pennsylvania State University and the University of Washington, and product teams like Microsoft Fabric and ML.NET. AutoGen aims to provide an ...\\n\\n3. [AutoGen: Downloads - Microsoft Research](https://www.microsoft.com/en-us/research/project/autogen/downloads/)\\nAutoGen. September 2023. Enable Next-Gen Large Language Model Applications. AutoGen is a framework that enables the development of LLM applications using multiple agents that can converse with each other to solve tasks. AutoGen agents are customizable, conversable, and seamlessly allow human participation. They….\\n\\n4. [GitHub - microsoft/autogen: Enable Next-Gen Large Language Model ...](https://github.com/microsoft/autogen)\\nAutoGen is a framework that enables the development of large language model applications using multiple agents that can converse with each other to solve tasks. It supports diverse conversation patterns, enhanced LLM inference, and customizable and conversable agents.\\n\\n5. [Getting Started | AutoGen - microsoft.github.io](https://microsoft.github.io/autogen/docs/Getting-Started/)\\nGetting Started. AutoGen is a framework that enables development of LLM applications using multiple agents that can converse with each other to solve tasks. AutoGen agents are customizable, conversable, and seamlessly allow human participation. They can operate in various modes that employ combinations of LLMs, human inputs, and tools.\\n\\n6. [AutoGen | AutoGen - microsoft.github.io](https://microsoft.github.io/autogen/)\\nAutoGen is a tool that enables next-gen large language model applications by providing a high-level abstraction for building diverse and enhanced LLM workflows. It offers a collection of working systems for various domains and complexities, as well as enhanced LLM inference and optimization APIs.\\n\\n7. [AutoGen - Microsoft Research](https://www.microsoft.com/en-us/research/project/autogen/)\\nAutoGen is an open-source, community-driven project under active development (as a spinoff from FLAML, a fast library for automated machine learning and tuning), which encourages contributions from individuals of all backgrounds. Many Microsoft Research collaborators have made great contributions to this project, including academic contributors like Pennsylvania State University and the University of Washington, and product teams like Microsoft Fabric and ML.NET. AutoGen aims to provide an ...\\n\\n8. [AutoGen: Downloads - Microsoft Research](https://www.microsoft.com/en-us/research/project/autogen/downloads/)\\nAutoGen. September 2023. Enable Next-Gen Large Language Model Applications. AutoGen is a framework that enables the development of LLM applications using multiple agents that can converse with each other to solve tasks. AutoGen agents are customizable, conversable, and seamlessly allow human participation. They….\\n\\n9. [AutoGen Studio: Interactively Explore Multi-Agent Workflows](https://microsoft.github.io/autogen/blog/2023/12/01/AutoGenStudio/)\\nTo help you rapidly prototype multi-agent solutions for your tasks, we are introducing AutoGen Studio, an interface powered by AutoGen. It allows you to: Declaratively define and modify agents and multi-agent workflows through a point and click, drag and drop interface (e.g., you can select the parameters of two agents that will communicate to ...\", cost=({'total_cost': 0}, {'total_cost': 0}), human_input=[])"
      ]
     },
     "execution_count": 7,
     "metadata": {},
     "output_type": "execute_result"
    }
   ],
   "source": [
    "task1 = \"\"\"\n",
    "Search the web for information about Microsoft AutoGen\n",
    "\"\"\"\n",
    "\n",
    "user_proxy.initiate_chat(web_surfer, message=task1)"
   ]
  },
  {
   "cell_type": "code",
   "execution_count": 8,
   "metadata": {},
   "outputs": [
    {
     "name": "stdout",
     "output_type": "stream",
     "text": [
      "\u001b[33muser_proxy\u001b[0m (to web_surfer):\n",
      "\n",
      "Summarize these results\n",
      "\n",
      "--------------------------------------------------------------------------------\n",
      "\u001b[31m\n",
      ">>>>>>>> USING AUTO REPLY...\u001b[0m\n",
      "\u001b[35m\n",
      ">>>>>>>> EXECUTING FUNCTION summarize_page...\u001b[0m\n",
      "\u001b[33mweb_surfer\u001b[0m (to user_proxy):\n",
      "\n",
      "A Bing search for 'Microsoft AutoGen' yielded 9 results related to the AutoGen project. AutoGen is a Python package developed by Microsoft that simplifies the orchestration, optimization, and automation of large language model (LLM) applications. It enables customizable and conversable agents that integrate with humans, tools, and other agents to solve tasks using advanced LLMs such as GPT-4. The project is open-source and community-driven, with contributions from various entities including academic contributors and product teams at Microsoft. AutoGen aims to provide a high-level abstraction for building diverse and enhanced LLM workflows, offering a collection of working systems for various domains and complexities, as well as enhanced LLM inference and optimization APIs. Additionally, AutoGen Studio has been introduced to allow rapid prototyping of multi-agent solutions through a user-friendly interface.\n",
      "\n",
      "Overall, the search results highlight the development, features, and applications of AutoGen in enabling next-generation large language model applications, as well as the collaborative and open nature of the project.\n",
      "\n",
      "--------------------------------------------------------------------------------\n"
     ]
    },
    {
     "data": {
      "text/plain": [
       "ChatResult(chat_id=None, chat_history=[{'content': '\\nSearch the web for information about Microsoft AutoGen\\n', 'role': 'assistant'}, {'content': \"Address: bing: Microsoft AutoGen\\nTitle: Microsoft AutoGen - Search\\nViewport position: Showing page 1 of 1.\\n=======================\\nA Bing search for 'Microsoft AutoGen' found 9 results:\\n\\n## Web Results\\n1. [AutoGen: Enabling next-generation large language model applications](https://www.microsoft.com/en-us/research/blog/autogen-enabling-next-generation-large-language-model-applications/)\\nAutoGen is a Python package that simplifies the orchestration, optimization, and automation of large language model applications. It enables customizable and conversable agents that integrate with humans, tools, and other agents to solve tasks using GPT-4 and other advanced LLMs. Learn how to use AutoGen for code-based question answering, supply-chain optimization, conversational chess, and more.\\n\\n2. [AutoGen - Microsoft Research](https://www.microsoft.com/en-us/research/project/autogen/)\\nAutoGen is an open-source, community-driven project under active development (as a spinoff from FLAML, a fast library for automated machine learning and tuning), which encourages contributions from individuals of all backgrounds. Many Microsoft Research collaborators have made great contributions to this project, including academic contributors like Pennsylvania State University and the University of Washington, and product teams like Microsoft Fabric and ML.NET. AutoGen aims to provide an ...\\n\\n3. [AutoGen: Downloads - Microsoft Research](https://www.microsoft.com/en-us/research/project/autogen/downloads/)\\nAutoGen. September 2023. Enable Next-Gen Large Language Model Applications. AutoGen is a framework that enables the development of LLM applications using multiple agents that can converse with each other to solve tasks. AutoGen agents are customizable, conversable, and seamlessly allow human participation. They….\\n\\n4. [GitHub - microsoft/autogen: Enable Next-Gen Large Language Model ...](https://github.com/microsoft/autogen)\\nAutoGen is a framework that enables the development of large language model applications using multiple agents that can converse with each other to solve tasks. It supports diverse conversation patterns, enhanced LLM inference, and customizable and conversable agents.\\n\\n5. [Getting Started | AutoGen - microsoft.github.io](https://microsoft.github.io/autogen/docs/Getting-Started/)\\nGetting Started. AutoGen is a framework that enables development of LLM applications using multiple agents that can converse with each other to solve tasks. AutoGen agents are customizable, conversable, and seamlessly allow human participation. They can operate in various modes that employ combinations of LLMs, human inputs, and tools.\\n\\n6. [AutoGen | AutoGen - microsoft.github.io](https://microsoft.github.io/autogen/)\\nAutoGen is a tool that enables next-gen large language model applications by providing a high-level abstraction for building diverse and enhanced LLM workflows. It offers a collection of working systems for various domains and complexities, as well as enhanced LLM inference and optimization APIs.\\n\\n7. [AutoGen - Microsoft Research](https://www.microsoft.com/en-us/research/project/autogen/)\\nAutoGen is an open-source, community-driven project under active development (as a spinoff from FLAML, a fast library for automated machine learning and tuning), which encourages contributions from individuals of all backgrounds. Many Microsoft Research collaborators have made great contributions to this project, including academic contributors like Pennsylvania State University and the University of Washington, and product teams like Microsoft Fabric and ML.NET. AutoGen aims to provide an ...\\n\\n8. [AutoGen: Downloads - Microsoft Research](https://www.microsoft.com/en-us/research/project/autogen/downloads/)\\nAutoGen. September 2023. Enable Next-Gen Large Language Model Applications. AutoGen is a framework that enables the development of LLM applications using multiple agents that can converse with each other to solve tasks. AutoGen agents are customizable, conversable, and seamlessly allow human participation. They….\\n\\n9. [AutoGen Studio: Interactively Explore Multi-Agent Workflows](https://microsoft.github.io/autogen/blog/2023/12/01/AutoGenStudio/)\\nTo help you rapidly prototype multi-agent solutions for your tasks, we are introducing AutoGen Studio, an interface powered by AutoGen. It allows you to: Declaratively define and modify agents and multi-agent workflows through a point and click, drag and drop interface (e.g., you can select the parameters of two agents that will communicate to ...\", 'role': 'user'}, {'content': 'Summarize these results', 'role': 'assistant'}, {'content': \"A Bing search for 'Microsoft AutoGen' yielded 9 results related to the AutoGen project. AutoGen is a Python package developed by Microsoft that simplifies the orchestration, optimization, and automation of large language model (LLM) applications. It enables customizable and conversable agents that integrate with humans, tools, and other agents to solve tasks using advanced LLMs such as GPT-4. The project is open-source and community-driven, with contributions from various entities including academic contributors and product teams at Microsoft. AutoGen aims to provide a high-level abstraction for building diverse and enhanced LLM workflows, offering a collection of working systems for various domains and complexities, as well as enhanced LLM inference and optimization APIs. Additionally, AutoGen Studio has been introduced to allow rapid prototyping of multi-agent solutions through a user-friendly interface.\\n\\nOverall, the search results highlight the development, features, and applications of AutoGen in enabling next-generation large language model applications, as well as the collaborative and open nature of the project.\", 'role': 'user'}], summary=\"A Bing search for 'Microsoft AutoGen' yielded 9 results related to the AutoGen project. AutoGen is a Python package developed by Microsoft that simplifies the orchestration, optimization, and automation of large language model (LLM) applications. It enables customizable and conversable agents that integrate with humans, tools, and other agents to solve tasks using advanced LLMs such as GPT-4. The project is open-source and community-driven, with contributions from various entities including academic contributors and product teams at Microsoft. AutoGen aims to provide a high-level abstraction for building diverse and enhanced LLM workflows, offering a collection of working systems for various domains and complexities, as well as enhanced LLM inference and optimization APIs. Additionally, AutoGen Studio has been introduced to allow rapid prototyping of multi-agent solutions through a user-friendly interface.\\n\\nOverall, the search results highlight the development, features, and applications of AutoGen in enabling next-generation large language model applications, as well as the collaborative and open nature of the project.\", cost=({'total_cost': 0}, {'total_cost': 0}), human_input=[])"
      ]
     },
     "execution_count": 8,
     "metadata": {},
     "output_type": "execute_result"
    }
   ],
   "source": [
    "task2 = \"Summarize these results\"\n",
    "user_proxy.initiate_chat(web_surfer, message=task2, clear_history=False)"
   ]
  },
  {
   "cell_type": "code",
   "execution_count": 9,
   "metadata": {},
   "outputs": [
    {
     "name": "stdout",
     "output_type": "stream",
     "text": [
      "\u001b[33muser_proxy\u001b[0m (to web_surfer):\n",
      "\n",
      "Click the 'Getting Started' result\n",
      "\n",
      "--------------------------------------------------------------------------------\n",
      "\u001b[31m\n",
      ">>>>>>>> USING AUTO REPLY...\u001b[0m\n",
      "\u001b[35m\n",
      ">>>>>>>> EXECUTING FUNCTION navigational_web_search...\u001b[0m\n",
      "\u001b[33mweb_surfer\u001b[0m (to user_proxy):\n",
      "\n",
      "Address: https://microsoft.github.io/autogen/docs/Getting-Started/\n",
      "Title: Getting Started | AutoGen\n",
      "Viewport position: Showing page 1 of 2.\n",
      "=======================\n",
      "Getting Started | AutoGen\n",
      "\n",
      "[Skip to main content](#__docusaurus_skipToContent_fallback)[![AutoGen](/autogen/img/ag.svg)![AutoGen](/autogen/img/ag.svg)**AutoGen**](/autogen/)[Docs](/autogen/docs/Getting-Started)[SDK](/autogen/docs/reference/agentchat/conversable_agent)[Blog](/autogen/blog)[FAQ](/autogen/docs/FAQ)[Examples](/autogen/docs/Examples)[Resources](#)* [Ecosystem](/autogen/docs/Ecosystem)\n",
      "* [Gallery](/autogen/docs/Gallery)\n",
      "[Other Languages](#)* [Dotnet](https://microsoft.github.io/autogen-for-net/)\n",
      "[GitHub](https://github.com/microsoft/autogen)`ctrl``K`* [Getting Started](/autogen/docs/Getting-Started)\n",
      "* [Installation](/autogen/docs/installation/)\n",
      "* [LLM Configuration](/autogen/docs/llm_configuration)\n",
      "* [Use Cases](/autogen/docs/Use-Cases/agent_chat)\n",
      "* [Contributing](/autogen/docs/Contribute)\n",
      "* [Research](/autogen/docs/Research)\n",
      "* [Migration Guide](/autogen/docs/Migration-Guide)\n",
      "* \n",
      "* Getting Started\n",
      "On this pageGetting Started\n",
      "===============\n",
      "\n",
      "AutoGen is a framework that enables development of LLM applications using multiple agents that can converse with each other to solve tasks. AutoGen agents are customizable, conversable, and seamlessly allow human participation. They can operate in various modes that employ combinations of LLMs, human inputs, and tools.\n",
      "\n",
      "![AutoGen Overview](/autogen/assets/images/autogen_agentchat-250ca64b77b87e70d34766a080bf6ba8.png)\n",
      "\n",
      "### Main Features[​](#main-features \"Direct link to Main Features\")\n",
      "\n",
      "* AutoGen enables building next-gen LLM applications based on [multi-agent conversations](https://microsoft.github.io/autogen/docs/Use-Cases/agent_chat) with minimal effort. It simplifies the orchestration, automation, and optimization of a complex LLM workflow. It maximizes the performance of LLM models and overcomes their weaknesses.\n",
      "* It supports [diverse conversation patterns](https://microsoft.github.io/autogen/docs/Use-Cases/agent_chat#supporting-diverse-conversation-patterns) for complex workflows. With customizable and conversable agents, developers can use AutoGen to build a wide range of conversation patterns concerning conversation autonomy,\n",
      "the number of agents, and agent conversation topology.\n",
      "* It provides a collection of working systems with different complexities. These systems span a [wide range of applications](https://microsoft.github.io/autogen/docs/Use-Cases/agent_chat#diverse-applications-implemented-with-autogen) from various domains and complexities. This demonstrates how AutoGen can easily support diverse conversation patterns.\n",
      "* AutoGen provides [enhanced LLM inference](https://microsoft.github.io/autogen/docs/Use-Cases/enhanced_inference#api-unification). It offers utilities like API unification and caching, and advanced usage patterns, such as error handling, multi-config inference, context programming, etc.\n",
      "\n",
      "AutoGen is powered by collaborative [research studies](/autogen/docs/Research) from Microsoft, Penn State University, and University of Washington.\n",
      "\n",
      "### Quickstart[​](#quickstart \"Direct link to Quickstart\")\n",
      "\n",
      "Install from pip: `pip install pyautogen`. Find more options in [Installation](/autogen/docs/installation/).\n",
      "For [code execution](/autogen/docs/FAQ#code-execution), we strongly recommend installing the python docker package, and using docker.\n",
      "\n",
      "#### Multi-Agent Conversation Framework[​](#multi-agent-conversation-framework \"Direct link to Multi-Agent Conversation Framework\")\n",
      "\n",
      "Autogen enables the next-gen LLM applications with a generic multi-agent conversation framework. It offers customizable and conversable agents which integrate LLMs, tools, and humans.\n",
      "By automating chat among multiple capable agents, one can easily make them collectively perform tasks autonomously or with human feedback, including tasks that require using tools via code. For [example](https://github.com/microsoft/autogen/blob/main/test/twoagent.py),\n",
      "\n",
      "```\n",
      "from autogen import AssistantAgent, UserProxyAgent, config\\_list\\_from\\_json  \n",
      "  \n",
      "# Load LLM inference endpoints from an env variable or a file  \n",
      "# See https://microsoft.github.io/autogen/docs/FAQ#set-your-api-endpoints  \n",
      "# and OAI\\_CONFIG\\_LIST\\_sample.json \n",
      "\n",
      "--------------------------------------------------------------------------------\n"
     ]
    },
    {
     "data": {
      "text/plain": [
       "ChatResult(chat_id=None, chat_history=[{'content': '\\nSearch the web for information about Microsoft AutoGen\\n', 'role': 'assistant'}, {'content': \"Address: bing: Microsoft AutoGen\\nTitle: Microsoft AutoGen - Search\\nViewport position: Showing page 1 of 1.\\n=======================\\nA Bing search for 'Microsoft AutoGen' found 9 results:\\n\\n## Web Results\\n1. [AutoGen: Enabling next-generation large language model applications](https://www.microsoft.com/en-us/research/blog/autogen-enabling-next-generation-large-language-model-applications/)\\nAutoGen is a Python package that simplifies the orchestration, optimization, and automation of large language model applications. It enables customizable and conversable agents that integrate with humans, tools, and other agents to solve tasks using GPT-4 and other advanced LLMs. Learn how to use AutoGen for code-based question answering, supply-chain optimization, conversational chess, and more.\\n\\n2. [AutoGen - Microsoft Research](https://www.microsoft.com/en-us/research/project/autogen/)\\nAutoGen is an open-source, community-driven project under active development (as a spinoff from FLAML, a fast library for automated machine learning and tuning), which encourages contributions from individuals of all backgrounds. Many Microsoft Research collaborators have made great contributions to this project, including academic contributors like Pennsylvania State University and the University of Washington, and product teams like Microsoft Fabric and ML.NET. AutoGen aims to provide an ...\\n\\n3. [AutoGen: Downloads - Microsoft Research](https://www.microsoft.com/en-us/research/project/autogen/downloads/)\\nAutoGen. September 2023. Enable Next-Gen Large Language Model Applications. AutoGen is a framework that enables the development of LLM applications using multiple agents that can converse with each other to solve tasks. AutoGen agents are customizable, conversable, and seamlessly allow human participation. They….\\n\\n4. [GitHub - microsoft/autogen: Enable Next-Gen Large Language Model ...](https://github.com/microsoft/autogen)\\nAutoGen is a framework that enables the development of large language model applications using multiple agents that can converse with each other to solve tasks. It supports diverse conversation patterns, enhanced LLM inference, and customizable and conversable agents.\\n\\n5. [Getting Started | AutoGen - microsoft.github.io](https://microsoft.github.io/autogen/docs/Getting-Started/)\\nGetting Started. AutoGen is a framework that enables development of LLM applications using multiple agents that can converse with each other to solve tasks. AutoGen agents are customizable, conversable, and seamlessly allow human participation. They can operate in various modes that employ combinations of LLMs, human inputs, and tools.\\n\\n6. [AutoGen | AutoGen - microsoft.github.io](https://microsoft.github.io/autogen/)\\nAutoGen is a tool that enables next-gen large language model applications by providing a high-level abstraction for building diverse and enhanced LLM workflows. It offers a collection of working systems for various domains and complexities, as well as enhanced LLM inference and optimization APIs.\\n\\n7. [AutoGen - Microsoft Research](https://www.microsoft.com/en-us/research/project/autogen/)\\nAutoGen is an open-source, community-driven project under active development (as a spinoff from FLAML, a fast library for automated machine learning and tuning), which encourages contributions from individuals of all backgrounds. Many Microsoft Research collaborators have made great contributions to this project, including academic contributors like Pennsylvania State University and the University of Washington, and product teams like Microsoft Fabric and ML.NET. AutoGen aims to provide an ...\\n\\n8. [AutoGen: Downloads - Microsoft Research](https://www.microsoft.com/en-us/research/project/autogen/downloads/)\\nAutoGen. September 2023. Enable Next-Gen Large Language Model Applications. AutoGen is a framework that enables the development of LLM applications using multiple agents that can converse with each other to solve tasks. AutoGen agents are customizable, conversable, and seamlessly allow human participation. They….\\n\\n9. [AutoGen Studio: Interactively Explore Multi-Agent Workflows](https://microsoft.github.io/autogen/blog/2023/12/01/AutoGenStudio/)\\nTo help you rapidly prototype multi-agent solutions for your tasks, we are introducing AutoGen Studio, an interface powered by AutoGen. It allows you to: Declaratively define and modify agents and multi-agent workflows through a point and click, drag and drop interface (e.g., you can select the parameters of two agents that will communicate to ...\", 'role': 'user'}, {'content': 'Summarize these results', 'role': 'assistant'}, {'content': \"A Bing search for 'Microsoft AutoGen' yielded 9 results related to the AutoGen project. AutoGen is a Python package developed by Microsoft that simplifies the orchestration, optimization, and automation of large language model (LLM) applications. It enables customizable and conversable agents that integrate with humans, tools, and other agents to solve tasks using advanced LLMs such as GPT-4. The project is open-source and community-driven, with contributions from various entities including academic contributors and product teams at Microsoft. AutoGen aims to provide a high-level abstraction for building diverse and enhanced LLM workflows, offering a collection of working systems for various domains and complexities, as well as enhanced LLM inference and optimization APIs. Additionally, AutoGen Studio has been introduced to allow rapid prototyping of multi-agent solutions through a user-friendly interface.\\n\\nOverall, the search results highlight the development, features, and applications of AutoGen in enabling next-generation large language model applications, as well as the collaborative and open nature of the project.\", 'role': 'user'}, {'content': \"Click the 'Getting Started' result\", 'role': 'assistant'}, {'content': 'Address: https://microsoft.github.io/autogen/docs/Getting-Started/\\nTitle: Getting Started | AutoGen\\nViewport position: Showing page 1 of 2.\\n=======================\\nGetting Started | AutoGen\\n\\n[Skip to main content](#__docusaurus_skipToContent_fallback)[![AutoGen](/autogen/img/ag.svg)![AutoGen](/autogen/img/ag.svg)**AutoGen**](/autogen/)[Docs](/autogen/docs/Getting-Started)[SDK](/autogen/docs/reference/agentchat/conversable_agent)[Blog](/autogen/blog)[FAQ](/autogen/docs/FAQ)[Examples](/autogen/docs/Examples)[Resources](#)* [Ecosystem](/autogen/docs/Ecosystem)\\n* [Gallery](/autogen/docs/Gallery)\\n[Other Languages](#)* [Dotnet](https://microsoft.github.io/autogen-for-net/)\\n[GitHub](https://github.com/microsoft/autogen)`ctrl``K`* [Getting Started](/autogen/docs/Getting-Started)\\n* [Installation](/autogen/docs/installation/)\\n* [LLM Configuration](/autogen/docs/llm_configuration)\\n* [Use Cases](/autogen/docs/Use-Cases/agent_chat)\\n* [Contributing](/autogen/docs/Contribute)\\n* [Research](/autogen/docs/Research)\\n* [Migration Guide](/autogen/docs/Migration-Guide)\\n* \\n* Getting Started\\nOn this pageGetting Started\\n===============\\n\\nAutoGen is a framework that enables development of LLM applications using multiple agents that can converse with each other to solve tasks. AutoGen agents are customizable, conversable, and seamlessly allow human participation. They can operate in various modes that employ combinations of LLMs, human inputs, and tools.\\n\\n![AutoGen Overview](/autogen/assets/images/autogen_agentchat-250ca64b77b87e70d34766a080bf6ba8.png)\\n\\n### Main Features[\\u200b](#main-features \"Direct link to Main Features\")\\n\\n* AutoGen enables building next-gen LLM applications based on [multi-agent conversations](https://microsoft.github.io/autogen/docs/Use-Cases/agent_chat) with minimal effort. It simplifies the orchestration, automation, and optimization of a complex LLM workflow. It maximizes the performance of LLM models and overcomes their weaknesses.\\n* It supports [diverse conversation patterns](https://microsoft.github.io/autogen/docs/Use-Cases/agent_chat#supporting-diverse-conversation-patterns) for complex workflows. With customizable and conversable agents, developers can use AutoGen to build a wide range of conversation patterns concerning conversation autonomy,\\nthe number of agents, and agent conversation topology.\\n* It provides a collection of working systems with different complexities. These systems span a [wide range of applications](https://microsoft.github.io/autogen/docs/Use-Cases/agent_chat#diverse-applications-implemented-with-autogen) from various domains and complexities. This demonstrates how AutoGen can easily support diverse conversation patterns.\\n* AutoGen provides [enhanced LLM inference](https://microsoft.github.io/autogen/docs/Use-Cases/enhanced_inference#api-unification). It offers utilities like API unification and caching, and advanced usage patterns, such as error handling, multi-config inference, context programming, etc.\\n\\nAutoGen is powered by collaborative [research studies](/autogen/docs/Research) from Microsoft, Penn State University, and University of Washington.\\n\\n### Quickstart[\\u200b](#quickstart \"Direct link to Quickstart\")\\n\\nInstall from pip: `pip install pyautogen`. Find more options in [Installation](/autogen/docs/installation/).\\nFor [code execution](/autogen/docs/FAQ#code-execution), we strongly recommend installing the python docker package, and using docker.\\n\\n#### Multi-Agent Conversation Framework[\\u200b](#multi-agent-conversation-framework \"Direct link to Multi-Agent Conversation Framework\")\\n\\nAutogen enables the next-gen LLM applications with a generic multi-agent conversation framework. It offers customizable and conversable agents which integrate LLMs, tools, and humans.\\nBy automating chat among multiple capable agents, one can easily make them collectively perform tasks autonomously or with human feedback, including tasks that require using tools via code. For [example](https://github.com/microsoft/autogen/blob/main/test/twoagent.py),\\n\\n```\\nfrom autogen import AssistantAgent, UserProxyAgent, config\\\\_list\\\\_from\\\\_json  \\n  \\n# Load LLM inference endpoints from an env variable or a file  \\n# See https://microsoft.github.io/autogen/docs/FAQ#set-your-api-endpoints  \\n# and OAI\\\\_CONFIG\\\\_LIST\\\\_sample.json ', 'role': 'user'}], summary='Address: https://microsoft.github.io/autogen/docs/Getting-Started/\\nTitle: Getting Started | AutoGen\\nViewport position: Showing page 1 of 2.\\n=======================\\nGetting Started | AutoGen\\n\\n[Skip to main content](#__docusaurus_skipToContent_fallback)[![AutoGen](/autogen/img/ag.svg)![AutoGen](/autogen/img/ag.svg)**AutoGen**](/autogen/)[Docs](/autogen/docs/Getting-Started)[SDK](/autogen/docs/reference/agentchat/conversable_agent)[Blog](/autogen/blog)[FAQ](/autogen/docs/FAQ)[Examples](/autogen/docs/Examples)[Resources](#)* [Ecosystem](/autogen/docs/Ecosystem)\\n* [Gallery](/autogen/docs/Gallery)\\n[Other Languages](#)* [Dotnet](https://microsoft.github.io/autogen-for-net/)\\n[GitHub](https://github.com/microsoft/autogen)`ctrl``K`* [Getting Started](/autogen/docs/Getting-Started)\\n* [Installation](/autogen/docs/installation/)\\n* [LLM Configuration](/autogen/docs/llm_configuration)\\n* [Use Cases](/autogen/docs/Use-Cases/agent_chat)\\n* [Contributing](/autogen/docs/Contribute)\\n* [Research](/autogen/docs/Research)\\n* [Migration Guide](/autogen/docs/Migration-Guide)\\n* \\n* Getting Started\\nOn this pageGetting Started\\n===============\\n\\nAutoGen is a framework that enables development of LLM applications using multiple agents that can converse with each other to solve tasks. AutoGen agents are customizable, conversable, and seamlessly allow human participation. They can operate in various modes that employ combinations of LLMs, human inputs, and tools.\\n\\n![AutoGen Overview](/autogen/assets/images/autogen_agentchat-250ca64b77b87e70d34766a080bf6ba8.png)\\n\\n### Main Features[\\u200b](#main-features \"Direct link to Main Features\")\\n\\n* AutoGen enables building next-gen LLM applications based on [multi-agent conversations](https://microsoft.github.io/autogen/docs/Use-Cases/agent_chat) with minimal effort. It simplifies the orchestration, automation, and optimization of a complex LLM workflow. It maximizes the performance of LLM models and overcomes their weaknesses.\\n* It supports [diverse conversation patterns](https://microsoft.github.io/autogen/docs/Use-Cases/agent_chat#supporting-diverse-conversation-patterns) for complex workflows. With customizable and conversable agents, developers can use AutoGen to build a wide range of conversation patterns concerning conversation autonomy,\\nthe number of agents, and agent conversation topology.\\n* It provides a collection of working systems with different complexities. These systems span a [wide range of applications](https://microsoft.github.io/autogen/docs/Use-Cases/agent_chat#diverse-applications-implemented-with-autogen) from various domains and complexities. This demonstrates how AutoGen can easily support diverse conversation patterns.\\n* AutoGen provides [enhanced LLM inference](https://microsoft.github.io/autogen/docs/Use-Cases/enhanced_inference#api-unification). It offers utilities like API unification and caching, and advanced usage patterns, such as error handling, multi-config inference, context programming, etc.\\n\\nAutoGen is powered by collaborative [research studies](/autogen/docs/Research) from Microsoft, Penn State University, and University of Washington.\\n\\n### Quickstart[\\u200b](#quickstart \"Direct link to Quickstart\")\\n\\nInstall from pip: `pip install pyautogen`. Find more options in [Installation](/autogen/docs/installation/).\\nFor [code execution](/autogen/docs/FAQ#code-execution), we strongly recommend installing the python docker package, and using docker.\\n\\n#### Multi-Agent Conversation Framework[\\u200b](#multi-agent-conversation-framework \"Direct link to Multi-Agent Conversation Framework\")\\n\\nAutogen enables the next-gen LLM applications with a generic multi-agent conversation framework. It offers customizable and conversable agents which integrate LLMs, tools, and humans.\\nBy automating chat among multiple capable agents, one can easily make them collectively perform tasks autonomously or with human feedback, including tasks that require using tools via code. For [example](https://github.com/microsoft/autogen/blob/main/test/twoagent.py),\\n\\n```\\nfrom autogen import AssistantAgent, UserProxyAgent, config\\\\_list\\\\_from\\\\_json  \\n  \\n# Load LLM inference endpoints from an env variable or a file  \\n# See https://microsoft.github.io/autogen/docs/FAQ#set-your-api-endpoints  \\n# and OAI\\\\_CONFIG\\\\_LIST\\\\_sample.json ', cost=({'total_cost': 0}, {'total_cost': 0}), human_input=[])"
      ]
     },
     "execution_count": 9,
     "metadata": {},
     "output_type": "execute_result"
    }
   ],
   "source": [
    "task3 = \"Click the 'Getting Started' result\"\n",
    "user_proxy.initiate_chat(web_surfer, message=task3, clear_history=False)"
   ]
  },
  {
   "cell_type": "markdown",
   "metadata": {},
   "source": [
    "### Example 2: Navigational search, scroll, answer questions\n",
    "- Search for Microsoft's wikipedia page, then naviagate to it\n",
    "- Scroll down\n",
    "- Answer questions about the content"
   ]
  },
  {
   "cell_type": "code",
   "execution_count": 10,
   "metadata": {},
   "outputs": [
    {
     "name": "stdout",
     "output_type": "stream",
     "text": [
      "\u001b[33muser_proxy\u001b[0m (to web_surfer):\n",
      "\n",
      "Find Microsoft's Wikipedia page.\n",
      "\n",
      "--------------------------------------------------------------------------------\n",
      "\u001b[31m\n",
      ">>>>>>>> USING AUTO REPLY...\u001b[0m\n",
      "\u001b[35m\n",
      ">>>>>>>> EXECUTING FUNCTION navigational_web_search...\u001b[0m\n",
      "\u001b[33mweb_surfer\u001b[0m (to user_proxy):\n",
      "\n",
      "Address: https://en.wikipedia.org/wiki/Microsoft\n",
      "Title: Microsoft - Wikipedia\n",
      "Viewport position: Showing page 1 of 66.\n",
      "=======================\n",
      "# Microsoft\n",
      "\n",
      "American multinational technology corporation\n",
      "\n",
      "Microsoft Corporation| [A square divided into four sub-squares, colored red-orange, green, yellow and blue (clockwise), with the company name appearing to its right](/wiki/File:Microsoft_logo_(2012).svg) |\n",
      "| Building 92 on the [Microsoft Redmond campus](/wiki/Microsoft_Redmond_campus \"Microsoft Redmond campus\") |\n",
      "| Company type | [Public](/wiki/Public_company \"Public company\") |\n",
      "| [Traded as](/wiki/Ticker_symbol \"Ticker symbol\") | * [Nasdaq](/wiki/Nasdaq \"Nasdaq\"): [MSFT](https://www.nasdaq.com/market-activity/stocks/msft)\n",
      "* [Nasdaq-100](/wiki/Nasdaq-100 \"Nasdaq-100\") component\n",
      "* [DJIA](/wiki/Dow_Jones_Industrial_Average \"Dow Jones Industrial Average\") component\n",
      "* [S&P 100](/wiki/S%26P_100 \"S&P 100\") component\n",
      "* [S&P 500](/wiki/S%26P_500 \"S&P 500\") component\n",
      " |\n",
      "| [ISIN](/wiki/International_Securities_Identification_Number \"International Securities Identification Number\") | [US5949181045](https://isin.toolforge.org/?language=en&isin=US5949181045) |\n",
      "| Industry | [Information technology](/wiki/Information_technology \"Information technology\") |\n",
      "| Founded | April 4, 1975; 48 years ago (1975-04-04) in [Albuquerque, New Mexico](/wiki/Albuquerque,_New_Mexico \"Albuquerque, New Mexico\"), U.S. |\n",
      "| Founders | * [Bill Gates](/wiki/Bill_Gates \"Bill Gates\")\n",
      "* [Paul Allen](/wiki/Paul_Allen \"Paul Allen\")\n",
      " |\n",
      "| Headquarters | [One Microsoft Way](/wiki/One_Microsoft_Way \"One Microsoft Way\"), [Redmond, Washington](/wiki/Redmond,_Washington \"Redmond, Washington\"), U.S. |\n",
      "| Area served | Worldwide |\n",
      "| Key people | * [Satya Nadella](/wiki/Satya_Nadella \"Satya Nadella\")([Chairman](/wiki/Chairman \"Chairman\") & [CEO](/wiki/Chief_executive_officer \"Chief executive officer\"))\n",
      "* [Brad Smith](/wiki/Brad_Smith_(American_lawyer) \"Brad Smith (American lawyer)\")([Vice Chairman](/wiki/Vice-Chairman \"Vice-Chairman\") & [President](/wiki/President_(corporate_title) \"President (corporate title)\"))\n",
      "* Bill Gates([technical adviser](/wiki/Adviser \"Adviser\"))\n",
      " |\n",
      "| Products | * [Software development](/wiki/Software_development \"Software development\")\n",
      "* [Computer hardware](/wiki/Computer_hardware \"Computer hardware\")\n",
      "* [Consumer electronics](/wiki/Consumer_electronics \"Consumer electronics\")\n",
      "* [Social networking service](/wiki/Social_networking_service \"Social networking service\")\n",
      "* [Cloud computing](/wiki/Cloud_computing \"Cloud computing\")\n",
      "* [Video games](/wiki/Video_game_industry \"Video game industry\")\n",
      "* [Internet](/wiki/Internet \"Internet\")\n",
      "* [Corporate venture capital](/wiki/Corporate_venture_capital \"Corporate venture capital\")\n",
      " |\n",
      "| Brands | \n",
      "* [Windows](/wiki/Microsoft_Windows \"Microsoft Windows\")\n",
      "* [Microsoft 365](/wiki/Microsoft_365 \"Microsoft 365\")\n",
      "* [Skype](/wiki/Skype \"Skype\")\n",
      "* [Visual Studio](/wiki/Visual_Studio \"Visual Studio\")\n",
      "* [Xbox](/wiki/Xbox \"Xbox\")\n",
      "* [Dynamics](/wiki/Microsoft_Dynamics_365 \"Microsoft Dynamics 365\")\n",
      "* [Surface](/wiki/Microsoft_Surface \"Microsoft Surface\")\n",
      "\n",
      " |\n",
      "| Services | \n",
      "* [Edge](/wiki/Microsoft_Edge \"Microsoft Edge\")\n",
      "* [Azure](/wiki/Microsoft_Azure \"Microsoft Azure\")\n",
      "* [Bing](/wiki/Microsoft_Bing \"Microsoft Bing\")\n",
      "* [LinkedIn](/wiki/LinkedIn \"LinkedIn\")\n",
      "* [Yammer](/wiki/Yammer \"Yammer\")\n",
      "* [Microsoft 365](/wiki/Microsoft_365 \"Microsoft 365\")\n",
      "* [OneDrive](/wiki/OneDrive \"OneDrive\")\n",
      "* [Outlook](/wiki/Microsoft_Outlook \"Microsoft Outlook\")\n",
      "* [GitHub](/wiki/GitHub \"GitHub\")\n",
      "* [Microsoft Store](/wiki/Microsoft_Store_(digital) \"Microsoft Store (digital)\")\n",
      "* [Windows Update](/wiki/Windows_Update \"Windows Update\")\n",
      "* [Xbox Game Pass](/wiki/Xbox_Game_Pass \"Xbox Game Pass\")\n",
      "* [Xbox network](/wiki/Xbox_network \"Xbox network\")\n",
      "\n",
      " |\n",
      "| Revenue | Increase [US$](/wiki/United_States_dollar \"United States dollar\")211.9 billion (2023) |\n",
      "| [Operating income](/wiki/Earnings_before_interest_and_taxes \"Earnings before interest and taxes\") | Increase US$88.5 billion (2023) |\n",
      "| [Net income](/wiki/Net_income \"Net income\") | Increase US$73.4 billion (2023) |\n",
      "| [Total assets](/wiki/Asset \"Asset\") | Increase US$411.9 billion (2023) |\n",
      "| [Total equity](/wiki/Equity_(finance) \"Equity (finance)\") | Increase \n",
      "\n",
      "--------------------------------------------------------------------------------\n"
     ]
    },
    {
     "data": {
      "text/plain": [
       "ChatResult(chat_id=None, chat_history=[{'content': '\\nSearch the web for information about Microsoft AutoGen\\n', 'role': 'assistant'}, {'content': \"Address: bing: Microsoft AutoGen\\nTitle: Microsoft AutoGen - Search\\nViewport position: Showing page 1 of 1.\\n=======================\\nA Bing search for 'Microsoft AutoGen' found 9 results:\\n\\n## Web Results\\n1. [AutoGen: Enabling next-generation large language model applications](https://www.microsoft.com/en-us/research/blog/autogen-enabling-next-generation-large-language-model-applications/)\\nAutoGen is a Python package that simplifies the orchestration, optimization, and automation of large language model applications. It enables customizable and conversable agents that integrate with humans, tools, and other agents to solve tasks using GPT-4 and other advanced LLMs. Learn how to use AutoGen for code-based question answering, supply-chain optimization, conversational chess, and more.\\n\\n2. [AutoGen - Microsoft Research](https://www.microsoft.com/en-us/research/project/autogen/)\\nAutoGen is an open-source, community-driven project under active development (as a spinoff from FLAML, a fast library for automated machine learning and tuning), which encourages contributions from individuals of all backgrounds. Many Microsoft Research collaborators have made great contributions to this project, including academic contributors like Pennsylvania State University and the University of Washington, and product teams like Microsoft Fabric and ML.NET. AutoGen aims to provide an ...\\n\\n3. [AutoGen: Downloads - Microsoft Research](https://www.microsoft.com/en-us/research/project/autogen/downloads/)\\nAutoGen. September 2023. Enable Next-Gen Large Language Model Applications. AutoGen is a framework that enables the development of LLM applications using multiple agents that can converse with each other to solve tasks. AutoGen agents are customizable, conversable, and seamlessly allow human participation. They….\\n\\n4. [GitHub - microsoft/autogen: Enable Next-Gen Large Language Model ...](https://github.com/microsoft/autogen)\\nAutoGen is a framework that enables the development of large language model applications using multiple agents that can converse with each other to solve tasks. It supports diverse conversation patterns, enhanced LLM inference, and customizable and conversable agents.\\n\\n5. [Getting Started | AutoGen - microsoft.github.io](https://microsoft.github.io/autogen/docs/Getting-Started/)\\nGetting Started. AutoGen is a framework that enables development of LLM applications using multiple agents that can converse with each other to solve tasks. AutoGen agents are customizable, conversable, and seamlessly allow human participation. They can operate in various modes that employ combinations of LLMs, human inputs, and tools.\\n\\n6. [AutoGen | AutoGen - microsoft.github.io](https://microsoft.github.io/autogen/)\\nAutoGen is a tool that enables next-gen large language model applications by providing a high-level abstraction for building diverse and enhanced LLM workflows. It offers a collection of working systems for various domains and complexities, as well as enhanced LLM inference and optimization APIs.\\n\\n7. [AutoGen - Microsoft Research](https://www.microsoft.com/en-us/research/project/autogen/)\\nAutoGen is an open-source, community-driven project under active development (as a spinoff from FLAML, a fast library for automated machine learning and tuning), which encourages contributions from individuals of all backgrounds. Many Microsoft Research collaborators have made great contributions to this project, including academic contributors like Pennsylvania State University and the University of Washington, and product teams like Microsoft Fabric and ML.NET. AutoGen aims to provide an ...\\n\\n8. [AutoGen: Downloads - Microsoft Research](https://www.microsoft.com/en-us/research/project/autogen/downloads/)\\nAutoGen. September 2023. Enable Next-Gen Large Language Model Applications. AutoGen is a framework that enables the development of LLM applications using multiple agents that can converse with each other to solve tasks. AutoGen agents are customizable, conversable, and seamlessly allow human participation. They….\\n\\n9. [AutoGen Studio: Interactively Explore Multi-Agent Workflows](https://microsoft.github.io/autogen/blog/2023/12/01/AutoGenStudio/)\\nTo help you rapidly prototype multi-agent solutions for your tasks, we are introducing AutoGen Studio, an interface powered by AutoGen. It allows you to: Declaratively define and modify agents and multi-agent workflows through a point and click, drag and drop interface (e.g., you can select the parameters of two agents that will communicate to ...\", 'role': 'user'}, {'content': 'Summarize these results', 'role': 'assistant'}, {'content': \"A Bing search for 'Microsoft AutoGen' yielded 9 results related to the AutoGen project. AutoGen is a Python package developed by Microsoft that simplifies the orchestration, optimization, and automation of large language model (LLM) applications. It enables customizable and conversable agents that integrate with humans, tools, and other agents to solve tasks using advanced LLMs such as GPT-4. The project is open-source and community-driven, with contributions from various entities including academic contributors and product teams at Microsoft. AutoGen aims to provide a high-level abstraction for building diverse and enhanced LLM workflows, offering a collection of working systems for various domains and complexities, as well as enhanced LLM inference and optimization APIs. Additionally, AutoGen Studio has been introduced to allow rapid prototyping of multi-agent solutions through a user-friendly interface.\\n\\nOverall, the search results highlight the development, features, and applications of AutoGen in enabling next-generation large language model applications, as well as the collaborative and open nature of the project.\", 'role': 'user'}, {'content': \"Click the 'Getting Started' result\", 'role': 'assistant'}, {'content': 'Address: https://microsoft.github.io/autogen/docs/Getting-Started/\\nTitle: Getting Started | AutoGen\\nViewport position: Showing page 1 of 2.\\n=======================\\nGetting Started | AutoGen\\n\\n[Skip to main content](#__docusaurus_skipToContent_fallback)[![AutoGen](/autogen/img/ag.svg)![AutoGen](/autogen/img/ag.svg)**AutoGen**](/autogen/)[Docs](/autogen/docs/Getting-Started)[SDK](/autogen/docs/reference/agentchat/conversable_agent)[Blog](/autogen/blog)[FAQ](/autogen/docs/FAQ)[Examples](/autogen/docs/Examples)[Resources](#)* [Ecosystem](/autogen/docs/Ecosystem)\\n* [Gallery](/autogen/docs/Gallery)\\n[Other Languages](#)* [Dotnet](https://microsoft.github.io/autogen-for-net/)\\n[GitHub](https://github.com/microsoft/autogen)`ctrl``K`* [Getting Started](/autogen/docs/Getting-Started)\\n* [Installation](/autogen/docs/installation/)\\n* [LLM Configuration](/autogen/docs/llm_configuration)\\n* [Use Cases](/autogen/docs/Use-Cases/agent_chat)\\n* [Contributing](/autogen/docs/Contribute)\\n* [Research](/autogen/docs/Research)\\n* [Migration Guide](/autogen/docs/Migration-Guide)\\n* \\n* Getting Started\\nOn this pageGetting Started\\n===============\\n\\nAutoGen is a framework that enables development of LLM applications using multiple agents that can converse with each other to solve tasks. AutoGen agents are customizable, conversable, and seamlessly allow human participation. They can operate in various modes that employ combinations of LLMs, human inputs, and tools.\\n\\n![AutoGen Overview](/autogen/assets/images/autogen_agentchat-250ca64b77b87e70d34766a080bf6ba8.png)\\n\\n### Main Features[\\u200b](#main-features \"Direct link to Main Features\")\\n\\n* AutoGen enables building next-gen LLM applications based on [multi-agent conversations](https://microsoft.github.io/autogen/docs/Use-Cases/agent_chat) with minimal effort. It simplifies the orchestration, automation, and optimization of a complex LLM workflow. It maximizes the performance of LLM models and overcomes their weaknesses.\\n* It supports [diverse conversation patterns](https://microsoft.github.io/autogen/docs/Use-Cases/agent_chat#supporting-diverse-conversation-patterns) for complex workflows. With customizable and conversable agents, developers can use AutoGen to build a wide range of conversation patterns concerning conversation autonomy,\\nthe number of agents, and agent conversation topology.\\n* It provides a collection of working systems with different complexities. These systems span a [wide range of applications](https://microsoft.github.io/autogen/docs/Use-Cases/agent_chat#diverse-applications-implemented-with-autogen) from various domains and complexities. This demonstrates how AutoGen can easily support diverse conversation patterns.\\n* AutoGen provides [enhanced LLM inference](https://microsoft.github.io/autogen/docs/Use-Cases/enhanced_inference#api-unification). It offers utilities like API unification and caching, and advanced usage patterns, such as error handling, multi-config inference, context programming, etc.\\n\\nAutoGen is powered by collaborative [research studies](/autogen/docs/Research) from Microsoft, Penn State University, and University of Washington.\\n\\n### Quickstart[\\u200b](#quickstart \"Direct link to Quickstart\")\\n\\nInstall from pip: `pip install pyautogen`. Find more options in [Installation](/autogen/docs/installation/).\\nFor [code execution](/autogen/docs/FAQ#code-execution), we strongly recommend installing the python docker package, and using docker.\\n\\n#### Multi-Agent Conversation Framework[\\u200b](#multi-agent-conversation-framework \"Direct link to Multi-Agent Conversation Framework\")\\n\\nAutogen enables the next-gen LLM applications with a generic multi-agent conversation framework. It offers customizable and conversable agents which integrate LLMs, tools, and humans.\\nBy automating chat among multiple capable agents, one can easily make them collectively perform tasks autonomously or with human feedback, including tasks that require using tools via code. For [example](https://github.com/microsoft/autogen/blob/main/test/twoagent.py),\\n\\n```\\nfrom autogen import AssistantAgent, UserProxyAgent, config\\\\_list\\\\_from\\\\_json  \\n  \\n# Load LLM inference endpoints from an env variable or a file  \\n# See https://microsoft.github.io/autogen/docs/FAQ#set-your-api-endpoints  \\n# and OAI\\\\_CONFIG\\\\_LIST\\\\_sample.json ', 'role': 'user'}, {'content': \"Find Microsoft's Wikipedia page.\", 'role': 'assistant'}, {'content': 'Address: https://en.wikipedia.org/wiki/Microsoft\\nTitle: Microsoft - Wikipedia\\nViewport position: Showing page 1 of 66.\\n=======================\\n# Microsoft\\n\\nAmerican multinational technology corporation\\n\\nMicrosoft Corporation| [A square divided into four sub-squares, colored red-orange, green, yellow and blue (clockwise), with the company name appearing to its right](/wiki/File:Microsoft_logo_(2012).svg) |\\n| Building 92 on the [Microsoft Redmond campus](/wiki/Microsoft_Redmond_campus \"Microsoft Redmond campus\") |\\n| Company type | [Public](/wiki/Public_company \"Public company\") |\\n| [Traded as](/wiki/Ticker_symbol \"Ticker symbol\") | * [Nasdaq](/wiki/Nasdaq \"Nasdaq\"):\\xa0[MSFT](https://www.nasdaq.com/market-activity/stocks/msft)\\n* [Nasdaq-100](/wiki/Nasdaq-100 \"Nasdaq-100\") component\\n* [DJIA](/wiki/Dow_Jones_Industrial_Average \"Dow Jones Industrial Average\") component\\n* [S&P 100](/wiki/S%26P_100 \"S&P 100\") component\\n* [S&P 500](/wiki/S%26P_500 \"S&P 500\") component\\n |\\n| [ISIN](/wiki/International_Securities_Identification_Number \"International Securities Identification Number\") | [US5949181045](https://isin.toolforge.org/?language=en&isin=US5949181045) |\\n| Industry | [Information technology](/wiki/Information_technology \"Information technology\") |\\n| Founded | April\\xa04, 1975; 48 years ago\\xa0(1975-04-04) in [Albuquerque, New Mexico](/wiki/Albuquerque,_New_Mexico \"Albuquerque, New Mexico\"), U.S. |\\n| Founders | * [Bill Gates](/wiki/Bill_Gates \"Bill Gates\")\\n* [Paul Allen](/wiki/Paul_Allen \"Paul Allen\")\\n |\\n| Headquarters | [One Microsoft Way](/wiki/One_Microsoft_Way \"One Microsoft Way\"), [Redmond, Washington](/wiki/Redmond,_Washington \"Redmond, Washington\"), U.S. |\\n| Area served | Worldwide |\\n| Key people | * [Satya Nadella](/wiki/Satya_Nadella \"Satya Nadella\")([Chairman](/wiki/Chairman \"Chairman\") & [CEO](/wiki/Chief_executive_officer \"Chief executive officer\"))\\n* [Brad Smith](/wiki/Brad_Smith_(American_lawyer) \"Brad Smith (American lawyer)\")([Vice Chairman](/wiki/Vice-Chairman \"Vice-Chairman\") & [President](/wiki/President_(corporate_title) \"President (corporate title)\"))\\n* Bill Gates([technical adviser](/wiki/Adviser \"Adviser\"))\\n |\\n| Products | * [Software development](/wiki/Software_development \"Software development\")\\n* [Computer hardware](/wiki/Computer_hardware \"Computer hardware\")\\n* [Consumer electronics](/wiki/Consumer_electronics \"Consumer electronics\")\\n* [Social networking service](/wiki/Social_networking_service \"Social networking service\")\\n* [Cloud computing](/wiki/Cloud_computing \"Cloud computing\")\\n* [Video games](/wiki/Video_game_industry \"Video game industry\")\\n* [Internet](/wiki/Internet \"Internet\")\\n* [Corporate venture capital](/wiki/Corporate_venture_capital \"Corporate venture capital\")\\n |\\n| Brands | \\n* [Windows](/wiki/Microsoft_Windows \"Microsoft Windows\")\\n* [Microsoft 365](/wiki/Microsoft_365 \"Microsoft 365\")\\n* [Skype](/wiki/Skype \"Skype\")\\n* [Visual Studio](/wiki/Visual_Studio \"Visual Studio\")\\n* [Xbox](/wiki/Xbox \"Xbox\")\\n* [Dynamics](/wiki/Microsoft_Dynamics_365 \"Microsoft Dynamics 365\")\\n* [Surface](/wiki/Microsoft_Surface \"Microsoft Surface\")\\n\\n |\\n| Services | \\n* [Edge](/wiki/Microsoft_Edge \"Microsoft Edge\")\\n* [Azure](/wiki/Microsoft_Azure \"Microsoft Azure\")\\n* [Bing](/wiki/Microsoft_Bing \"Microsoft Bing\")\\n* [LinkedIn](/wiki/LinkedIn \"LinkedIn\")\\n* [Yammer](/wiki/Yammer \"Yammer\")\\n* [Microsoft 365](/wiki/Microsoft_365 \"Microsoft 365\")\\n* [OneDrive](/wiki/OneDrive \"OneDrive\")\\n* [Outlook](/wiki/Microsoft_Outlook \"Microsoft Outlook\")\\n* [GitHub](/wiki/GitHub \"GitHub\")\\n* [Microsoft Store](/wiki/Microsoft_Store_(digital) \"Microsoft Store (digital)\")\\n* [Windows Update](/wiki/Windows_Update \"Windows Update\")\\n* [Xbox Game Pass](/wiki/Xbox_Game_Pass \"Xbox Game Pass\")\\n* [Xbox network](/wiki/Xbox_network \"Xbox network\")\\n\\n |\\n| Revenue | Increase [US$](/wiki/United_States_dollar \"United States dollar\")211.9 billion (2023) |\\n| [Operating income](/wiki/Earnings_before_interest_and_taxes \"Earnings before interest and taxes\") | Increase US$88.5 billion (2023) |\\n| [Net income](/wiki/Net_income \"Net income\") | Increase US$73.4 billion (2023) |\\n| [Total assets](/wiki/Asset \"Asset\") | Increase US$411.9 billion (2023) |\\n| [Total equity](/wiki/Equity_(finance) \"Equity (finance)\") | Increase ', 'role': 'user'}], summary='Address: https://en.wikipedia.org/wiki/Microsoft\\nTitle: Microsoft - Wikipedia\\nViewport position: Showing page 1 of 66.\\n=======================\\n# Microsoft\\n\\nAmerican multinational technology corporation\\n\\nMicrosoft Corporation| [A square divided into four sub-squares, colored red-orange, green, yellow and blue (clockwise), with the company name appearing to its right](/wiki/File:Microsoft_logo_(2012).svg) |\\n| Building 92 on the [Microsoft Redmond campus](/wiki/Microsoft_Redmond_campus \"Microsoft Redmond campus\") |\\n| Company type | [Public](/wiki/Public_company \"Public company\") |\\n| [Traded as](/wiki/Ticker_symbol \"Ticker symbol\") | * [Nasdaq](/wiki/Nasdaq \"Nasdaq\"):\\xa0[MSFT](https://www.nasdaq.com/market-activity/stocks/msft)\\n* [Nasdaq-100](/wiki/Nasdaq-100 \"Nasdaq-100\") component\\n* [DJIA](/wiki/Dow_Jones_Industrial_Average \"Dow Jones Industrial Average\") component\\n* [S&P 100](/wiki/S%26P_100 \"S&P 100\") component\\n* [S&P 500](/wiki/S%26P_500 \"S&P 500\") component\\n |\\n| [ISIN](/wiki/International_Securities_Identification_Number \"International Securities Identification Number\") | [US5949181045](https://isin.toolforge.org/?language=en&isin=US5949181045) |\\n| Industry | [Information technology](/wiki/Information_technology \"Information technology\") |\\n| Founded | April\\xa04, 1975; 48 years ago\\xa0(1975-04-04) in [Albuquerque, New Mexico](/wiki/Albuquerque,_New_Mexico \"Albuquerque, New Mexico\"), U.S. |\\n| Founders | * [Bill Gates](/wiki/Bill_Gates \"Bill Gates\")\\n* [Paul Allen](/wiki/Paul_Allen \"Paul Allen\")\\n |\\n| Headquarters | [One Microsoft Way](/wiki/One_Microsoft_Way \"One Microsoft Way\"), [Redmond, Washington](/wiki/Redmond,_Washington \"Redmond, Washington\"), U.S. |\\n| Area served | Worldwide |\\n| Key people | * [Satya Nadella](/wiki/Satya_Nadella \"Satya Nadella\")([Chairman](/wiki/Chairman \"Chairman\") & [CEO](/wiki/Chief_executive_officer \"Chief executive officer\"))\\n* [Brad Smith](/wiki/Brad_Smith_(American_lawyer) \"Brad Smith (American lawyer)\")([Vice Chairman](/wiki/Vice-Chairman \"Vice-Chairman\") & [President](/wiki/President_(corporate_title) \"President (corporate title)\"))\\n* Bill Gates([technical adviser](/wiki/Adviser \"Adviser\"))\\n |\\n| Products | * [Software development](/wiki/Software_development \"Software development\")\\n* [Computer hardware](/wiki/Computer_hardware \"Computer hardware\")\\n* [Consumer electronics](/wiki/Consumer_electronics \"Consumer electronics\")\\n* [Social networking service](/wiki/Social_networking_service \"Social networking service\")\\n* [Cloud computing](/wiki/Cloud_computing \"Cloud computing\")\\n* [Video games](/wiki/Video_game_industry \"Video game industry\")\\n* [Internet](/wiki/Internet \"Internet\")\\n* [Corporate venture capital](/wiki/Corporate_venture_capital \"Corporate venture capital\")\\n |\\n| Brands | \\n* [Windows](/wiki/Microsoft_Windows \"Microsoft Windows\")\\n* [Microsoft 365](/wiki/Microsoft_365 \"Microsoft 365\")\\n* [Skype](/wiki/Skype \"Skype\")\\n* [Visual Studio](/wiki/Visual_Studio \"Visual Studio\")\\n* [Xbox](/wiki/Xbox \"Xbox\")\\n* [Dynamics](/wiki/Microsoft_Dynamics_365 \"Microsoft Dynamics 365\")\\n* [Surface](/wiki/Microsoft_Surface \"Microsoft Surface\")\\n\\n |\\n| Services | \\n* [Edge](/wiki/Microsoft_Edge \"Microsoft Edge\")\\n* [Azure](/wiki/Microsoft_Azure \"Microsoft Azure\")\\n* [Bing](/wiki/Microsoft_Bing \"Microsoft Bing\")\\n* [LinkedIn](/wiki/LinkedIn \"LinkedIn\")\\n* [Yammer](/wiki/Yammer \"Yammer\")\\n* [Microsoft 365](/wiki/Microsoft_365 \"Microsoft 365\")\\n* [OneDrive](/wiki/OneDrive \"OneDrive\")\\n* [Outlook](/wiki/Microsoft_Outlook \"Microsoft Outlook\")\\n* [GitHub](/wiki/GitHub \"GitHub\")\\n* [Microsoft Store](/wiki/Microsoft_Store_(digital) \"Microsoft Store (digital)\")\\n* [Windows Update](/wiki/Windows_Update \"Windows Update\")\\n* [Xbox Game Pass](/wiki/Xbox_Game_Pass \"Xbox Game Pass\")\\n* [Xbox network](/wiki/Xbox_network \"Xbox network\")\\n\\n |\\n| Revenue | Increase [US$](/wiki/United_States_dollar \"United States dollar\")211.9 billion (2023) |\\n| [Operating income](/wiki/Earnings_before_interest_and_taxes \"Earnings before interest and taxes\") | Increase US$88.5 billion (2023) |\\n| [Net income](/wiki/Net_income \"Net income\") | Increase US$73.4 billion (2023) |\\n| [Total assets](/wiki/Asset \"Asset\") | Increase US$411.9 billion (2023) |\\n| [Total equity](/wiki/Equity_(finance) \"Equity (finance)\") | Increase ', cost=({'total_cost': 0}, {'total_cost': 0}), human_input=[])"
      ]
     },
     "execution_count": 10,
     "metadata": {},
     "output_type": "execute_result"
    }
   ],
   "source": [
    "task4 = \"\"\"Find Microsoft's Wikipedia page.\"\"\"\n",
    "user_proxy.initiate_chat(web_surfer, message=task4, clear_history=False)"
   ]
  },
  {
   "cell_type": "code",
   "execution_count": 11,
   "metadata": {},
   "outputs": [
    {
     "name": "stdout",
     "output_type": "stream",
     "text": [
      "\u001b[33muser_proxy\u001b[0m (to web_surfer):\n",
      "\n",
      "Scroll down.\n",
      "\n",
      "--------------------------------------------------------------------------------\n",
      "\u001b[31m\n",
      ">>>>>>>> USING AUTO REPLY...\u001b[0m\n",
      "\u001b[35m\n",
      ">>>>>>>> EXECUTING FUNCTION page_down...\u001b[0m\n",
      "\u001b[33mweb_surfer\u001b[0m (to user_proxy):\n",
      "\n",
      "Address: https://en.wikipedia.org/wiki/Microsoft\n",
      "Title: Microsoft - Wikipedia\n",
      "Viewport position: Showing page 2 of 66.\n",
      "=======================\n",
      "US$206.2 billion (2023) |\n",
      "| Number of employees | 221,000 (2023) |\n",
      "| [Divisions](/wiki/Division_(business) \"Division (business)\") | \n",
      "* [Microsoft Engineering Groups](/wiki/Microsoft_engineering_groups \"Microsoft engineering groups\")\n",
      "* [Microsoft Digital Crimes Unit](/wiki/Microsoft_Digital_Crimes_Unit \"Microsoft Digital Crimes Unit\")\n",
      "* [Microsoft Press](/wiki/Microsoft_Press \"Microsoft Press\")\n",
      "* [Microsoft Gaming](/wiki/Microsoft_Gaming \"Microsoft Gaming\")\n",
      "\n",
      " |\n",
      "| [Subsidiaries](/wiki/Subsidiary \"Subsidiary\") | \n",
      "* [Microsoft Japan](/wiki/Microsoft_Japan \"Microsoft Japan\")\n",
      "* [Microsoft India](/wiki/Microsoft_India \"Microsoft India\")\n",
      "* [Microsoft Egypt](/wiki/Microsoft_Egypt \"Microsoft Egypt\")\n",
      "* [GitHub](/wiki/GitHub \"GitHub\")\n",
      "* [LinkedIn](/wiki/LinkedIn \"LinkedIn\")\n",
      "* [Metaswitch](/wiki/Metaswitch \"Metaswitch\")\n",
      "* [Nuance Communications](/wiki/Nuance_Communications \"Nuance Communications\")\n",
      "* [RiskIQ](/wiki/RiskIQ \"RiskIQ\")\n",
      "* [Skype Technologies](/wiki/Skype_Technologies \"Skype Technologies\")\n",
      "* [Xamarin](/wiki/Xamarin \"Xamarin\")\n",
      "* [Xandr](/wiki/Xandr \"Xandr\")\n",
      "\n",
      " |\n",
      "|  |\n",
      "| [ASN](/wiki/Autonomous_System_Number \"Autonomous System Number\") | * [8075](https://bgp.tools/as/8075)\n",
      " |\n",
      "|  |\n",
      "| Website | [microsoft.com](https://www.microsoft.com/) |\n",
      "| **Footnotes / references**Financials as of June 30, 2023[[update]](https://en.wikipedia.org/w/index.php?title=Microsoft&action=edit)[[1]](#cite_note-1) |\n",
      "\n",
      "|  |  |  |\n",
      "| --- | --- | --- |\n",
      "| \n",
      "\n",
      "|  |  |\n",
      "| --- | --- |\n",
      "| [Bill Gates in 2023](/wiki/File:Bill_Gates_2017_(cropped).jpg) | This article is part of a series about\n",
      "[Bill Gates](/wiki/Bill_Gates \"Bill Gates\") |\n",
      "\n",
      " |\n",
      "| * [Awards and honors](/wiki/Bill_Gates#Recognition \"Bill Gates\")\n",
      "* [Philanthropy](/wiki/Bill_Gates#Philanthropy \"Bill Gates\")\n",
      "* [Political positions](/wiki/Bill_Gates#Political_positions \"Bill Gates\")\n",
      "* [Public image](/wiki/Bill_Gates#Public_image \"Bill Gates\")\n",
      "* [Residence](/wiki/Bill_Gates%27s_house \"Bill Gates's house\")\n",
      "\n",
      "---\n",
      "\n",
      "Companies* [Traf-O-Data](/wiki/Traf-O-Data \"Traf-O-Data\")\n",
      "* Microsoft ([criticism](/wiki/Criticism_of_Microsoft \"Criticism of Microsoft\"))\n",
      "* [BEN](/wiki/Branded_Entertainment_Network \"Branded Entertainment Network\")\n",
      "* [Cascade Investment](/wiki/Cascade_Investment \"Cascade Investment\")\n",
      "* [TerraPower](/wiki/TerraPower \"TerraPower\")\n",
      "* [Gates Ventures](/wiki/Gates_Ventures \"Gates Ventures\")\n",
      "\n",
      "---\n",
      "\n",
      "Charitable organizations* [Bill & Melinda Gates Foundation](/wiki/Bill_%26_Melinda_Gates_Foundation \"Bill & Melinda Gates Foundation\")\n",
      "* [Match for Africa](/wiki/Match_for_Africa \"Match for Africa\")\n",
      "* [The Giving Pledge](/wiki/The_Giving_Pledge \"The Giving Pledge\")\n",
      "* [OER Project](/wiki/OER_Project \"OER Project\")\n",
      "* [Breakthrough Energy](/wiki/Breakthrough_Energy \"Breakthrough Energy\")\n",
      "* [Mission Innovation](/wiki/Mission_Innovation \"Mission Innovation\")\n",
      "\n",
      "---\n",
      "\n",
      "Writings* \"[An Open Letter to Hobbyists](/wiki/An_Open_Letter_to_Hobbyists \"An Open Letter to Hobbyists\")\"\n",
      "* *[The Road Ahead](/wiki/The_Road_Ahead_(Gates_book) \"The Road Ahead (Gates book)\")*\n",
      "* *[Business @ the Speed of Thought](/wiki/Business_@_the_Speed_of_Thought \"Business @ the Speed of Thought\")*\n",
      "* *[How to Avoid a Climate Disaster](/wiki/How_to_Avoid_a_Climate_Disaster \"How to Avoid a Climate Disaster\")*\n",
      "* *[How to Prevent the Next Pandemic](/wiki/How_to_Prevent_the_Next_Pandemic \"How to Prevent the Next Pandemic\")*\n",
      "\n",
      "---\n",
      "\n",
      "Related* [Bill Gates' flower fly](/wiki/Bill_Gates%27_flower_fly \"Bill Gates' flower fly\")\n",
      "* [Codex Leicester](/wiki/Codex_Leicester \"Codex Leicester\")\n",
      "* *[Lost on the Grand Banks](/wiki/Lost_on_the_Grand_Banks \"Lost on the Grand Banks\")*\n",
      "* [History of Microsoft](/wiki/History_of_Microsoft \"History of Microsoft\")\n",
      "* [Timeline of Microsoft](/wiki/Timeline_of_Microsoft \"Timeline of Microsoft\")\n",
      "* [Paul Allen](/wiki/Paul_Allen \"Paul Allen\")\n",
      "\n",
      "---\n",
      "\n",
      " |\n",
      "| * [v](/wiki/Template:Bill_Gates_series \"Template:Bill Gates series\")\n",
      "* [t](/wiki/Template_talk:Bill_Gates_series \"Template talk:Bill Gates series\")\n",
      "* [e](/wiki/Special:EditPage/Template:Bill_Gates_series \"Special:EditPage/Template:Bill Gates series\")\n",
      " |\n",
      "\n",
      "**Microsoft Corporation** is an American multinational \n",
      "\n",
      "--------------------------------------------------------------------------------\n"
     ]
    },
    {
     "data": {
      "text/plain": [
       "ChatResult(chat_id=None, chat_history=[{'content': '\\nSearch the web for information about Microsoft AutoGen\\n', 'role': 'assistant'}, {'content': \"Address: bing: Microsoft AutoGen\\nTitle: Microsoft AutoGen - Search\\nViewport position: Showing page 1 of 1.\\n=======================\\nA Bing search for 'Microsoft AutoGen' found 9 results:\\n\\n## Web Results\\n1. [AutoGen: Enabling next-generation large language model applications](https://www.microsoft.com/en-us/research/blog/autogen-enabling-next-generation-large-language-model-applications/)\\nAutoGen is a Python package that simplifies the orchestration, optimization, and automation of large language model applications. It enables customizable and conversable agents that integrate with humans, tools, and other agents to solve tasks using GPT-4 and other advanced LLMs. Learn how to use AutoGen for code-based question answering, supply-chain optimization, conversational chess, and more.\\n\\n2. [AutoGen - Microsoft Research](https://www.microsoft.com/en-us/research/project/autogen/)\\nAutoGen is an open-source, community-driven project under active development (as a spinoff from FLAML, a fast library for automated machine learning and tuning), which encourages contributions from individuals of all backgrounds. Many Microsoft Research collaborators have made great contributions to this project, including academic contributors like Pennsylvania State University and the University of Washington, and product teams like Microsoft Fabric and ML.NET. AutoGen aims to provide an ...\\n\\n3. [AutoGen: Downloads - Microsoft Research](https://www.microsoft.com/en-us/research/project/autogen/downloads/)\\nAutoGen. September 2023. Enable Next-Gen Large Language Model Applications. AutoGen is a framework that enables the development of LLM applications using multiple agents that can converse with each other to solve tasks. AutoGen agents are customizable, conversable, and seamlessly allow human participation. They….\\n\\n4. [GitHub - microsoft/autogen: Enable Next-Gen Large Language Model ...](https://github.com/microsoft/autogen)\\nAutoGen is a framework that enables the development of large language model applications using multiple agents that can converse with each other to solve tasks. It supports diverse conversation patterns, enhanced LLM inference, and customizable and conversable agents.\\n\\n5. [Getting Started | AutoGen - microsoft.github.io](https://microsoft.github.io/autogen/docs/Getting-Started/)\\nGetting Started. AutoGen is a framework that enables development of LLM applications using multiple agents that can converse with each other to solve tasks. AutoGen agents are customizable, conversable, and seamlessly allow human participation. They can operate in various modes that employ combinations of LLMs, human inputs, and tools.\\n\\n6. [AutoGen | AutoGen - microsoft.github.io](https://microsoft.github.io/autogen/)\\nAutoGen is a tool that enables next-gen large language model applications by providing a high-level abstraction for building diverse and enhanced LLM workflows. It offers a collection of working systems for various domains and complexities, as well as enhanced LLM inference and optimization APIs.\\n\\n7. [AutoGen - Microsoft Research](https://www.microsoft.com/en-us/research/project/autogen/)\\nAutoGen is an open-source, community-driven project under active development (as a spinoff from FLAML, a fast library for automated machine learning and tuning), which encourages contributions from individuals of all backgrounds. Many Microsoft Research collaborators have made great contributions to this project, including academic contributors like Pennsylvania State University and the University of Washington, and product teams like Microsoft Fabric and ML.NET. AutoGen aims to provide an ...\\n\\n8. [AutoGen: Downloads - Microsoft Research](https://www.microsoft.com/en-us/research/project/autogen/downloads/)\\nAutoGen. September 2023. Enable Next-Gen Large Language Model Applications. AutoGen is a framework that enables the development of LLM applications using multiple agents that can converse with each other to solve tasks. AutoGen agents are customizable, conversable, and seamlessly allow human participation. They….\\n\\n9. [AutoGen Studio: Interactively Explore Multi-Agent Workflows](https://microsoft.github.io/autogen/blog/2023/12/01/AutoGenStudio/)\\nTo help you rapidly prototype multi-agent solutions for your tasks, we are introducing AutoGen Studio, an interface powered by AutoGen. It allows you to: Declaratively define and modify agents and multi-agent workflows through a point and click, drag and drop interface (e.g., you can select the parameters of two agents that will communicate to ...\", 'role': 'user'}, {'content': 'Summarize these results', 'role': 'assistant'}, {'content': \"A Bing search for 'Microsoft AutoGen' yielded 9 results related to the AutoGen project. AutoGen is a Python package developed by Microsoft that simplifies the orchestration, optimization, and automation of large language model (LLM) applications. It enables customizable and conversable agents that integrate with humans, tools, and other agents to solve tasks using advanced LLMs such as GPT-4. The project is open-source and community-driven, with contributions from various entities including academic contributors and product teams at Microsoft. AutoGen aims to provide a high-level abstraction for building diverse and enhanced LLM workflows, offering a collection of working systems for various domains and complexities, as well as enhanced LLM inference and optimization APIs. Additionally, AutoGen Studio has been introduced to allow rapid prototyping of multi-agent solutions through a user-friendly interface.\\n\\nOverall, the search results highlight the development, features, and applications of AutoGen in enabling next-generation large language model applications, as well as the collaborative and open nature of the project.\", 'role': 'user'}, {'content': \"Click the 'Getting Started' result\", 'role': 'assistant'}, {'content': 'Address: https://microsoft.github.io/autogen/docs/Getting-Started/\\nTitle: Getting Started | AutoGen\\nViewport position: Showing page 1 of 2.\\n=======================\\nGetting Started | AutoGen\\n\\n[Skip to main content](#__docusaurus_skipToContent_fallback)[![AutoGen](/autogen/img/ag.svg)![AutoGen](/autogen/img/ag.svg)**AutoGen**](/autogen/)[Docs](/autogen/docs/Getting-Started)[SDK](/autogen/docs/reference/agentchat/conversable_agent)[Blog](/autogen/blog)[FAQ](/autogen/docs/FAQ)[Examples](/autogen/docs/Examples)[Resources](#)* [Ecosystem](/autogen/docs/Ecosystem)\\n* [Gallery](/autogen/docs/Gallery)\\n[Other Languages](#)* [Dotnet](https://microsoft.github.io/autogen-for-net/)\\n[GitHub](https://github.com/microsoft/autogen)`ctrl``K`* [Getting Started](/autogen/docs/Getting-Started)\\n* [Installation](/autogen/docs/installation/)\\n* [LLM Configuration](/autogen/docs/llm_configuration)\\n* [Use Cases](/autogen/docs/Use-Cases/agent_chat)\\n* [Contributing](/autogen/docs/Contribute)\\n* [Research](/autogen/docs/Research)\\n* [Migration Guide](/autogen/docs/Migration-Guide)\\n* \\n* Getting Started\\nOn this pageGetting Started\\n===============\\n\\nAutoGen is a framework that enables development of LLM applications using multiple agents that can converse with each other to solve tasks. AutoGen agents are customizable, conversable, and seamlessly allow human participation. They can operate in various modes that employ combinations of LLMs, human inputs, and tools.\\n\\n![AutoGen Overview](/autogen/assets/images/autogen_agentchat-250ca64b77b87e70d34766a080bf6ba8.png)\\n\\n### Main Features[\\u200b](#main-features \"Direct link to Main Features\")\\n\\n* AutoGen enables building next-gen LLM applications based on [multi-agent conversations](https://microsoft.github.io/autogen/docs/Use-Cases/agent_chat) with minimal effort. It simplifies the orchestration, automation, and optimization of a complex LLM workflow. It maximizes the performance of LLM models and overcomes their weaknesses.\\n* It supports [diverse conversation patterns](https://microsoft.github.io/autogen/docs/Use-Cases/agent_chat#supporting-diverse-conversation-patterns) for complex workflows. With customizable and conversable agents, developers can use AutoGen to build a wide range of conversation patterns concerning conversation autonomy,\\nthe number of agents, and agent conversation topology.\\n* It provides a collection of working systems with different complexities. These systems span a [wide range of applications](https://microsoft.github.io/autogen/docs/Use-Cases/agent_chat#diverse-applications-implemented-with-autogen) from various domains and complexities. This demonstrates how AutoGen can easily support diverse conversation patterns.\\n* AutoGen provides [enhanced LLM inference](https://microsoft.github.io/autogen/docs/Use-Cases/enhanced_inference#api-unification). It offers utilities like API unification and caching, and advanced usage patterns, such as error handling, multi-config inference, context programming, etc.\\n\\nAutoGen is powered by collaborative [research studies](/autogen/docs/Research) from Microsoft, Penn State University, and University of Washington.\\n\\n### Quickstart[\\u200b](#quickstart \"Direct link to Quickstart\")\\n\\nInstall from pip: `pip install pyautogen`. Find more options in [Installation](/autogen/docs/installation/).\\nFor [code execution](/autogen/docs/FAQ#code-execution), we strongly recommend installing the python docker package, and using docker.\\n\\n#### Multi-Agent Conversation Framework[\\u200b](#multi-agent-conversation-framework \"Direct link to Multi-Agent Conversation Framework\")\\n\\nAutogen enables the next-gen LLM applications with a generic multi-agent conversation framework. It offers customizable and conversable agents which integrate LLMs, tools, and humans.\\nBy automating chat among multiple capable agents, one can easily make them collectively perform tasks autonomously or with human feedback, including tasks that require using tools via code. For [example](https://github.com/microsoft/autogen/blob/main/test/twoagent.py),\\n\\n```\\nfrom autogen import AssistantAgent, UserProxyAgent, config\\\\_list\\\\_from\\\\_json  \\n  \\n# Load LLM inference endpoints from an env variable or a file  \\n# See https://microsoft.github.io/autogen/docs/FAQ#set-your-api-endpoints  \\n# and OAI\\\\_CONFIG\\\\_LIST\\\\_sample.json ', 'role': 'user'}, {'content': \"Find Microsoft's Wikipedia page.\", 'role': 'assistant'}, {'content': 'Address: https://en.wikipedia.org/wiki/Microsoft\\nTitle: Microsoft - Wikipedia\\nViewport position: Showing page 1 of 66.\\n=======================\\n# Microsoft\\n\\nAmerican multinational technology corporation\\n\\nMicrosoft Corporation| [A square divided into four sub-squares, colored red-orange, green, yellow and blue (clockwise), with the company name appearing to its right](/wiki/File:Microsoft_logo_(2012).svg) |\\n| Building 92 on the [Microsoft Redmond campus](/wiki/Microsoft_Redmond_campus \"Microsoft Redmond campus\") |\\n| Company type | [Public](/wiki/Public_company \"Public company\") |\\n| [Traded as](/wiki/Ticker_symbol \"Ticker symbol\") | * [Nasdaq](/wiki/Nasdaq \"Nasdaq\"):\\xa0[MSFT](https://www.nasdaq.com/market-activity/stocks/msft)\\n* [Nasdaq-100](/wiki/Nasdaq-100 \"Nasdaq-100\") component\\n* [DJIA](/wiki/Dow_Jones_Industrial_Average \"Dow Jones Industrial Average\") component\\n* [S&P 100](/wiki/S%26P_100 \"S&P 100\") component\\n* [S&P 500](/wiki/S%26P_500 \"S&P 500\") component\\n |\\n| [ISIN](/wiki/International_Securities_Identification_Number \"International Securities Identification Number\") | [US5949181045](https://isin.toolforge.org/?language=en&isin=US5949181045) |\\n| Industry | [Information technology](/wiki/Information_technology \"Information technology\") |\\n| Founded | April\\xa04, 1975; 48 years ago\\xa0(1975-04-04) in [Albuquerque, New Mexico](/wiki/Albuquerque,_New_Mexico \"Albuquerque, New Mexico\"), U.S. |\\n| Founders | * [Bill Gates](/wiki/Bill_Gates \"Bill Gates\")\\n* [Paul Allen](/wiki/Paul_Allen \"Paul Allen\")\\n |\\n| Headquarters | [One Microsoft Way](/wiki/One_Microsoft_Way \"One Microsoft Way\"), [Redmond, Washington](/wiki/Redmond,_Washington \"Redmond, Washington\"), U.S. |\\n| Area served | Worldwide |\\n| Key people | * [Satya Nadella](/wiki/Satya_Nadella \"Satya Nadella\")([Chairman](/wiki/Chairman \"Chairman\") & [CEO](/wiki/Chief_executive_officer \"Chief executive officer\"))\\n* [Brad Smith](/wiki/Brad_Smith_(American_lawyer) \"Brad Smith (American lawyer)\")([Vice Chairman](/wiki/Vice-Chairman \"Vice-Chairman\") & [President](/wiki/President_(corporate_title) \"President (corporate title)\"))\\n* Bill Gates([technical adviser](/wiki/Adviser \"Adviser\"))\\n |\\n| Products | * [Software development](/wiki/Software_development \"Software development\")\\n* [Computer hardware](/wiki/Computer_hardware \"Computer hardware\")\\n* [Consumer electronics](/wiki/Consumer_electronics \"Consumer electronics\")\\n* [Social networking service](/wiki/Social_networking_service \"Social networking service\")\\n* [Cloud computing](/wiki/Cloud_computing \"Cloud computing\")\\n* [Video games](/wiki/Video_game_industry \"Video game industry\")\\n* [Internet](/wiki/Internet \"Internet\")\\n* [Corporate venture capital](/wiki/Corporate_venture_capital \"Corporate venture capital\")\\n |\\n| Brands | \\n* [Windows](/wiki/Microsoft_Windows \"Microsoft Windows\")\\n* [Microsoft 365](/wiki/Microsoft_365 \"Microsoft 365\")\\n* [Skype](/wiki/Skype \"Skype\")\\n* [Visual Studio](/wiki/Visual_Studio \"Visual Studio\")\\n* [Xbox](/wiki/Xbox \"Xbox\")\\n* [Dynamics](/wiki/Microsoft_Dynamics_365 \"Microsoft Dynamics 365\")\\n* [Surface](/wiki/Microsoft_Surface \"Microsoft Surface\")\\n\\n |\\n| Services | \\n* [Edge](/wiki/Microsoft_Edge \"Microsoft Edge\")\\n* [Azure](/wiki/Microsoft_Azure \"Microsoft Azure\")\\n* [Bing](/wiki/Microsoft_Bing \"Microsoft Bing\")\\n* [LinkedIn](/wiki/LinkedIn \"LinkedIn\")\\n* [Yammer](/wiki/Yammer \"Yammer\")\\n* [Microsoft 365](/wiki/Microsoft_365 \"Microsoft 365\")\\n* [OneDrive](/wiki/OneDrive \"OneDrive\")\\n* [Outlook](/wiki/Microsoft_Outlook \"Microsoft Outlook\")\\n* [GitHub](/wiki/GitHub \"GitHub\")\\n* [Microsoft Store](/wiki/Microsoft_Store_(digital) \"Microsoft Store (digital)\")\\n* [Windows Update](/wiki/Windows_Update \"Windows Update\")\\n* [Xbox Game Pass](/wiki/Xbox_Game_Pass \"Xbox Game Pass\")\\n* [Xbox network](/wiki/Xbox_network \"Xbox network\")\\n\\n |\\n| Revenue | Increase [US$](/wiki/United_States_dollar \"United States dollar\")211.9 billion (2023) |\\n| [Operating income](/wiki/Earnings_before_interest_and_taxes \"Earnings before interest and taxes\") | Increase US$88.5 billion (2023) |\\n| [Net income](/wiki/Net_income \"Net income\") | Increase US$73.4 billion (2023) |\\n| [Total assets](/wiki/Asset \"Asset\") | Increase US$411.9 billion (2023) |\\n| [Total equity](/wiki/Equity_(finance) \"Equity (finance)\") | Increase ', 'role': 'user'}, {'content': 'Scroll down.', 'role': 'assistant'}, {'content': 'Address: https://en.wikipedia.org/wiki/Microsoft\\nTitle: Microsoft - Wikipedia\\nViewport position: Showing page 2 of 66.\\n=======================\\nUS$206.2 billion (2023) |\\n| Number of employees | 221,000 (2023) |\\n| [Divisions](/wiki/Division_(business) \"Division (business)\") | \\n* [Microsoft Engineering Groups](/wiki/Microsoft_engineering_groups \"Microsoft engineering groups\")\\n* [Microsoft Digital Crimes Unit](/wiki/Microsoft_Digital_Crimes_Unit \"Microsoft Digital Crimes Unit\")\\n* [Microsoft Press](/wiki/Microsoft_Press \"Microsoft Press\")\\n* [Microsoft Gaming](/wiki/Microsoft_Gaming \"Microsoft Gaming\")\\n\\n |\\n| [Subsidiaries](/wiki/Subsidiary \"Subsidiary\") | \\n* [Microsoft Japan](/wiki/Microsoft_Japan \"Microsoft Japan\")\\n* [Microsoft India](/wiki/Microsoft_India \"Microsoft India\")\\n* [Microsoft Egypt](/wiki/Microsoft_Egypt \"Microsoft Egypt\")\\n* [GitHub](/wiki/GitHub \"GitHub\")\\n* [LinkedIn](/wiki/LinkedIn \"LinkedIn\")\\n* [Metaswitch](/wiki/Metaswitch \"Metaswitch\")\\n* [Nuance Communications](/wiki/Nuance_Communications \"Nuance Communications\")\\n* [RiskIQ](/wiki/RiskIQ \"RiskIQ\")\\n* [Skype Technologies](/wiki/Skype_Technologies \"Skype Technologies\")\\n* [Xamarin](/wiki/Xamarin \"Xamarin\")\\n* [Xandr](/wiki/Xandr \"Xandr\")\\n\\n |\\n|  |\\n| [ASN](/wiki/Autonomous_System_Number \"Autonomous System Number\") | * [8075](https://bgp.tools/as/8075)\\n |\\n|  |\\n| Website | [microsoft.com](https://www.microsoft.com/) |\\n| **Footnotes\\xa0/ references**Financials as of June\\xa030, 2023[[update]](https://en.wikipedia.org/w/index.php?title=Microsoft&action=edit)[[1]](#cite_note-1) |\\n\\n|  |  |  |\\n| --- | --- | --- |\\n| \\n\\n|  |  |\\n| --- | --- |\\n| [Bill Gates in 2023](/wiki/File:Bill_Gates_2017_(cropped).jpg) | This article is part of a series about\\n[Bill Gates](/wiki/Bill_Gates \"Bill Gates\") |\\n\\n |\\n| * [Awards and honors](/wiki/Bill_Gates#Recognition \"Bill Gates\")\\n* [Philanthropy](/wiki/Bill_Gates#Philanthropy \"Bill Gates\")\\n* [Political positions](/wiki/Bill_Gates#Political_positions \"Bill Gates\")\\n* [Public image](/wiki/Bill_Gates#Public_image \"Bill Gates\")\\n* [Residence](/wiki/Bill_Gates%27s_house \"Bill Gates\\'s house\")\\n\\n---\\n\\nCompanies* [Traf-O-Data](/wiki/Traf-O-Data \"Traf-O-Data\")\\n* Microsoft ([criticism](/wiki/Criticism_of_Microsoft \"Criticism of Microsoft\"))\\n* [BEN](/wiki/Branded_Entertainment_Network \"Branded Entertainment Network\")\\n* [Cascade Investment](/wiki/Cascade_Investment \"Cascade Investment\")\\n* [TerraPower](/wiki/TerraPower \"TerraPower\")\\n* [Gates Ventures](/wiki/Gates_Ventures \"Gates Ventures\")\\n\\n---\\n\\nCharitable organizations* [Bill & Melinda Gates Foundation](/wiki/Bill_%26_Melinda_Gates_Foundation \"Bill & Melinda Gates Foundation\")\\n* [Match for Africa](/wiki/Match_for_Africa \"Match for Africa\")\\n* [The Giving Pledge](/wiki/The_Giving_Pledge \"The Giving Pledge\")\\n* [OER Project](/wiki/OER_Project \"OER Project\")\\n* [Breakthrough Energy](/wiki/Breakthrough_Energy \"Breakthrough Energy\")\\n* [Mission Innovation](/wiki/Mission_Innovation \"Mission Innovation\")\\n\\n---\\n\\nWritings* \"[An Open Letter to Hobbyists](/wiki/An_Open_Letter_to_Hobbyists \"An Open Letter to Hobbyists\")\"\\n* *[The Road Ahead](/wiki/The_Road_Ahead_(Gates_book) \"The Road Ahead (Gates book)\")*\\n* *[Business @ the Speed of Thought](/wiki/Business_@_the_Speed_of_Thought \"Business @ the Speed of Thought\")*\\n* *[How to Avoid a Climate Disaster](/wiki/How_to_Avoid_a_Climate_Disaster \"How to Avoid a Climate Disaster\")*\\n* *[How to Prevent the Next Pandemic](/wiki/How_to_Prevent_the_Next_Pandemic \"How to Prevent the Next Pandemic\")*\\n\\n---\\n\\nRelated* [Bill Gates\\' flower fly](/wiki/Bill_Gates%27_flower_fly \"Bill Gates\\' flower fly\")\\n* [Codex Leicester](/wiki/Codex_Leicester \"Codex Leicester\")\\n* *[Lost on the Grand Banks](/wiki/Lost_on_the_Grand_Banks \"Lost on the Grand Banks\")*\\n* [History of Microsoft](/wiki/History_of_Microsoft \"History of Microsoft\")\\n* [Timeline of Microsoft](/wiki/Timeline_of_Microsoft \"Timeline of Microsoft\")\\n* [Paul Allen](/wiki/Paul_Allen \"Paul Allen\")\\n\\n---\\n\\n |\\n| * [v](/wiki/Template:Bill_Gates_series \"Template:Bill Gates series\")\\n* [t](/wiki/Template_talk:Bill_Gates_series \"Template talk:Bill Gates series\")\\n* [e](/wiki/Special:EditPage/Template:Bill_Gates_series \"Special:EditPage/Template:Bill Gates series\")\\n |\\n\\n**Microsoft Corporation** is an American multinational ', 'role': 'user'}], summary='Address: https://en.wikipedia.org/wiki/Microsoft\\nTitle: Microsoft - Wikipedia\\nViewport position: Showing page 2 of 66.\\n=======================\\nUS$206.2 billion (2023) |\\n| Number of employees | 221,000 (2023) |\\n| [Divisions](/wiki/Division_(business) \"Division (business)\") | \\n* [Microsoft Engineering Groups](/wiki/Microsoft_engineering_groups \"Microsoft engineering groups\")\\n* [Microsoft Digital Crimes Unit](/wiki/Microsoft_Digital_Crimes_Unit \"Microsoft Digital Crimes Unit\")\\n* [Microsoft Press](/wiki/Microsoft_Press \"Microsoft Press\")\\n* [Microsoft Gaming](/wiki/Microsoft_Gaming \"Microsoft Gaming\")\\n\\n |\\n| [Subsidiaries](/wiki/Subsidiary \"Subsidiary\") | \\n* [Microsoft Japan](/wiki/Microsoft_Japan \"Microsoft Japan\")\\n* [Microsoft India](/wiki/Microsoft_India \"Microsoft India\")\\n* [Microsoft Egypt](/wiki/Microsoft_Egypt \"Microsoft Egypt\")\\n* [GitHub](/wiki/GitHub \"GitHub\")\\n* [LinkedIn](/wiki/LinkedIn \"LinkedIn\")\\n* [Metaswitch](/wiki/Metaswitch \"Metaswitch\")\\n* [Nuance Communications](/wiki/Nuance_Communications \"Nuance Communications\")\\n* [RiskIQ](/wiki/RiskIQ \"RiskIQ\")\\n* [Skype Technologies](/wiki/Skype_Technologies \"Skype Technologies\")\\n* [Xamarin](/wiki/Xamarin \"Xamarin\")\\n* [Xandr](/wiki/Xandr \"Xandr\")\\n\\n |\\n|  |\\n| [ASN](/wiki/Autonomous_System_Number \"Autonomous System Number\") | * [8075](https://bgp.tools/as/8075)\\n |\\n|  |\\n| Website | [microsoft.com](https://www.microsoft.com/) |\\n| **Footnotes\\xa0/ references**Financials as of June\\xa030, 2023[[update]](https://en.wikipedia.org/w/index.php?title=Microsoft&action=edit)[[1]](#cite_note-1) |\\n\\n|  |  |  |\\n| --- | --- | --- |\\n| \\n\\n|  |  |\\n| --- | --- |\\n| [Bill Gates in 2023](/wiki/File:Bill_Gates_2017_(cropped).jpg) | This article is part of a series about\\n[Bill Gates](/wiki/Bill_Gates \"Bill Gates\") |\\n\\n |\\n| * [Awards and honors](/wiki/Bill_Gates#Recognition \"Bill Gates\")\\n* [Philanthropy](/wiki/Bill_Gates#Philanthropy \"Bill Gates\")\\n* [Political positions](/wiki/Bill_Gates#Political_positions \"Bill Gates\")\\n* [Public image](/wiki/Bill_Gates#Public_image \"Bill Gates\")\\n* [Residence](/wiki/Bill_Gates%27s_house \"Bill Gates\\'s house\")\\n\\n---\\n\\nCompanies* [Traf-O-Data](/wiki/Traf-O-Data \"Traf-O-Data\")\\n* Microsoft ([criticism](/wiki/Criticism_of_Microsoft \"Criticism of Microsoft\"))\\n* [BEN](/wiki/Branded_Entertainment_Network \"Branded Entertainment Network\")\\n* [Cascade Investment](/wiki/Cascade_Investment \"Cascade Investment\")\\n* [TerraPower](/wiki/TerraPower \"TerraPower\")\\n* [Gates Ventures](/wiki/Gates_Ventures \"Gates Ventures\")\\n\\n---\\n\\nCharitable organizations* [Bill & Melinda Gates Foundation](/wiki/Bill_%26_Melinda_Gates_Foundation \"Bill & Melinda Gates Foundation\")\\n* [Match for Africa](/wiki/Match_for_Africa \"Match for Africa\")\\n* [The Giving Pledge](/wiki/The_Giving_Pledge \"The Giving Pledge\")\\n* [OER Project](/wiki/OER_Project \"OER Project\")\\n* [Breakthrough Energy](/wiki/Breakthrough_Energy \"Breakthrough Energy\")\\n* [Mission Innovation](/wiki/Mission_Innovation \"Mission Innovation\")\\n\\n---\\n\\nWritings* \"[An Open Letter to Hobbyists](/wiki/An_Open_Letter_to_Hobbyists \"An Open Letter to Hobbyists\")\"\\n* *[The Road Ahead](/wiki/The_Road_Ahead_(Gates_book) \"The Road Ahead (Gates book)\")*\\n* *[Business @ the Speed of Thought](/wiki/Business_@_the_Speed_of_Thought \"Business @ the Speed of Thought\")*\\n* *[How to Avoid a Climate Disaster](/wiki/How_to_Avoid_a_Climate_Disaster \"How to Avoid a Climate Disaster\")*\\n* *[How to Prevent the Next Pandemic](/wiki/How_to_Prevent_the_Next_Pandemic \"How to Prevent the Next Pandemic\")*\\n\\n---\\n\\nRelated* [Bill Gates\\' flower fly](/wiki/Bill_Gates%27_flower_fly \"Bill Gates\\' flower fly\")\\n* [Codex Leicester](/wiki/Codex_Leicester \"Codex Leicester\")\\n* *[Lost on the Grand Banks](/wiki/Lost_on_the_Grand_Banks \"Lost on the Grand Banks\")*\\n* [History of Microsoft](/wiki/History_of_Microsoft \"History of Microsoft\")\\n* [Timeline of Microsoft](/wiki/Timeline_of_Microsoft \"Timeline of Microsoft\")\\n* [Paul Allen](/wiki/Paul_Allen \"Paul Allen\")\\n\\n---\\n\\n |\\n| * [v](/wiki/Template:Bill_Gates_series \"Template:Bill Gates series\")\\n* [t](/wiki/Template_talk:Bill_Gates_series \"Template talk:Bill Gates series\")\\n* [e](/wiki/Special:EditPage/Template:Bill_Gates_series \"Special:EditPage/Template:Bill Gates series\")\\n |\\n\\n**Microsoft Corporation** is an American multinational ', cost=({'total_cost': 0}, {'total_cost': 0}), human_input=[])"
      ]
     },
     "execution_count": 11,
     "metadata": {},
     "output_type": "execute_result"
    }
   ],
   "source": [
    "task5 = \"\"\"Scroll down.\"\"\"\n",
    "user_proxy.initiate_chat(web_surfer, message=task5, clear_history=False)"
   ]
  },
  {
   "cell_type": "code",
   "execution_count": 12,
   "metadata": {},
   "outputs": [
    {
     "name": "stdout",
     "output_type": "stream",
     "text": [
      "\u001b[33muser_proxy\u001b[0m (to web_surfer):\n",
      "\n",
      "Where was the first office location, and when did they move to Redmond?\n",
      "\n",
      "--------------------------------------------------------------------------------\n",
      "\u001b[31m\n",
      ">>>>>>>> USING AUTO REPLY...\u001b[0m\n",
      "\u001b[35m\n",
      ">>>>>>>> EXECUTING FUNCTION answer_from_page...\u001b[0m\n",
      "\u001b[33mweb_surfer\u001b[0m (to user_proxy):\n",
      "\n",
      "Microsoft was founded on April 4, 1975, in Albuquerque, New Mexico. The company moved its headquarters to Bellevue, Washington, in January 1979. Microsoft entered the operating system business in 1980 with its own version of Unix called Xenix, but it was MS-DOS that solidified the company's dominance. In 1985, Microsoft released Windows 1.0, and in 1990, the company introduced the Microsoft Office suite. In 2000, Bill Gates handed over the CEO position to Steve Ballmer, and in 2014, Satya Nadella succeeded Ballmer as the CEO of Microsoft. In 2015, Microsoft released Windows 10, and in 2016, the company joined the Linux Foundation as a Platinum member. In 2018, Microsoft acquired GitHub for $7.5 billion and announced the closure of its Mixer service. In 2020, Microsoft announced plans to acquire TikTok and finalized the acquisition of ZeniMax Media, the parent company of Bethesda Softworks, for about $7.5 billion. Additionally, Microsoft released the Xbox Series X and Xbox Series S video game consoles in November 2020.\n",
      "\n",
      "--------------------------------------------------------------------------------\n"
     ]
    },
    {
     "data": {
      "text/plain": [
       "ChatResult(chat_id=None, chat_history=[{'content': '\\nSearch the web for information about Microsoft AutoGen\\n', 'role': 'assistant'}, {'content': \"Address: bing: Microsoft AutoGen\\nTitle: Microsoft AutoGen - Search\\nViewport position: Showing page 1 of 1.\\n=======================\\nA Bing search for 'Microsoft AutoGen' found 9 results:\\n\\n## Web Results\\n1. [AutoGen: Enabling next-generation large language model applications](https://www.microsoft.com/en-us/research/blog/autogen-enabling-next-generation-large-language-model-applications/)\\nAutoGen is a Python package that simplifies the orchestration, optimization, and automation of large language model applications. It enables customizable and conversable agents that integrate with humans, tools, and other agents to solve tasks using GPT-4 and other advanced LLMs. Learn how to use AutoGen for code-based question answering, supply-chain optimization, conversational chess, and more.\\n\\n2. [AutoGen - Microsoft Research](https://www.microsoft.com/en-us/research/project/autogen/)\\nAutoGen is an open-source, community-driven project under active development (as a spinoff from FLAML, a fast library for automated machine learning and tuning), which encourages contributions from individuals of all backgrounds. Many Microsoft Research collaborators have made great contributions to this project, including academic contributors like Pennsylvania State University and the University of Washington, and product teams like Microsoft Fabric and ML.NET. AutoGen aims to provide an ...\\n\\n3. [AutoGen: Downloads - Microsoft Research](https://www.microsoft.com/en-us/research/project/autogen/downloads/)\\nAutoGen. September 2023. Enable Next-Gen Large Language Model Applications. AutoGen is a framework that enables the development of LLM applications using multiple agents that can converse with each other to solve tasks. AutoGen agents are customizable, conversable, and seamlessly allow human participation. They….\\n\\n4. [GitHub - microsoft/autogen: Enable Next-Gen Large Language Model ...](https://github.com/microsoft/autogen)\\nAutoGen is a framework that enables the development of large language model applications using multiple agents that can converse with each other to solve tasks. It supports diverse conversation patterns, enhanced LLM inference, and customizable and conversable agents.\\n\\n5. [Getting Started | AutoGen - microsoft.github.io](https://microsoft.github.io/autogen/docs/Getting-Started/)\\nGetting Started. AutoGen is a framework that enables development of LLM applications using multiple agents that can converse with each other to solve tasks. AutoGen agents are customizable, conversable, and seamlessly allow human participation. They can operate in various modes that employ combinations of LLMs, human inputs, and tools.\\n\\n6. [AutoGen | AutoGen - microsoft.github.io](https://microsoft.github.io/autogen/)\\nAutoGen is a tool that enables next-gen large language model applications by providing a high-level abstraction for building diverse and enhanced LLM workflows. It offers a collection of working systems for various domains and complexities, as well as enhanced LLM inference and optimization APIs.\\n\\n7. [AutoGen - Microsoft Research](https://www.microsoft.com/en-us/research/project/autogen/)\\nAutoGen is an open-source, community-driven project under active development (as a spinoff from FLAML, a fast library for automated machine learning and tuning), which encourages contributions from individuals of all backgrounds. Many Microsoft Research collaborators have made great contributions to this project, including academic contributors like Pennsylvania State University and the University of Washington, and product teams like Microsoft Fabric and ML.NET. AutoGen aims to provide an ...\\n\\n8. [AutoGen: Downloads - Microsoft Research](https://www.microsoft.com/en-us/research/project/autogen/downloads/)\\nAutoGen. September 2023. Enable Next-Gen Large Language Model Applications. AutoGen is a framework that enables the development of LLM applications using multiple agents that can converse with each other to solve tasks. AutoGen agents are customizable, conversable, and seamlessly allow human participation. They….\\n\\n9. [AutoGen Studio: Interactively Explore Multi-Agent Workflows](https://microsoft.github.io/autogen/blog/2023/12/01/AutoGenStudio/)\\nTo help you rapidly prototype multi-agent solutions for your tasks, we are introducing AutoGen Studio, an interface powered by AutoGen. It allows you to: Declaratively define and modify agents and multi-agent workflows through a point and click, drag and drop interface (e.g., you can select the parameters of two agents that will communicate to ...\", 'role': 'user'}, {'content': 'Summarize these results', 'role': 'assistant'}, {'content': \"A Bing search for 'Microsoft AutoGen' yielded 9 results related to the AutoGen project. AutoGen is a Python package developed by Microsoft that simplifies the orchestration, optimization, and automation of large language model (LLM) applications. It enables customizable and conversable agents that integrate with humans, tools, and other agents to solve tasks using advanced LLMs such as GPT-4. The project is open-source and community-driven, with contributions from various entities including academic contributors and product teams at Microsoft. AutoGen aims to provide a high-level abstraction for building diverse and enhanced LLM workflows, offering a collection of working systems for various domains and complexities, as well as enhanced LLM inference and optimization APIs. Additionally, AutoGen Studio has been introduced to allow rapid prototyping of multi-agent solutions through a user-friendly interface.\\n\\nOverall, the search results highlight the development, features, and applications of AutoGen in enabling next-generation large language model applications, as well as the collaborative and open nature of the project.\", 'role': 'user'}, {'content': \"Click the 'Getting Started' result\", 'role': 'assistant'}, {'content': 'Address: https://microsoft.github.io/autogen/docs/Getting-Started/\\nTitle: Getting Started | AutoGen\\nViewport position: Showing page 1 of 2.\\n=======================\\nGetting Started | AutoGen\\n\\n[Skip to main content](#__docusaurus_skipToContent_fallback)[![AutoGen](/autogen/img/ag.svg)![AutoGen](/autogen/img/ag.svg)**AutoGen**](/autogen/)[Docs](/autogen/docs/Getting-Started)[SDK](/autogen/docs/reference/agentchat/conversable_agent)[Blog](/autogen/blog)[FAQ](/autogen/docs/FAQ)[Examples](/autogen/docs/Examples)[Resources](#)* [Ecosystem](/autogen/docs/Ecosystem)\\n* [Gallery](/autogen/docs/Gallery)\\n[Other Languages](#)* [Dotnet](https://microsoft.github.io/autogen-for-net/)\\n[GitHub](https://github.com/microsoft/autogen)`ctrl``K`* [Getting Started](/autogen/docs/Getting-Started)\\n* [Installation](/autogen/docs/installation/)\\n* [LLM Configuration](/autogen/docs/llm_configuration)\\n* [Use Cases](/autogen/docs/Use-Cases/agent_chat)\\n* [Contributing](/autogen/docs/Contribute)\\n* [Research](/autogen/docs/Research)\\n* [Migration Guide](/autogen/docs/Migration-Guide)\\n* \\n* Getting Started\\nOn this pageGetting Started\\n===============\\n\\nAutoGen is a framework that enables development of LLM applications using multiple agents that can converse with each other to solve tasks. AutoGen agents are customizable, conversable, and seamlessly allow human participation. They can operate in various modes that employ combinations of LLMs, human inputs, and tools.\\n\\n![AutoGen Overview](/autogen/assets/images/autogen_agentchat-250ca64b77b87e70d34766a080bf6ba8.png)\\n\\n### Main Features[\\u200b](#main-features \"Direct link to Main Features\")\\n\\n* AutoGen enables building next-gen LLM applications based on [multi-agent conversations](https://microsoft.github.io/autogen/docs/Use-Cases/agent_chat) with minimal effort. It simplifies the orchestration, automation, and optimization of a complex LLM workflow. It maximizes the performance of LLM models and overcomes their weaknesses.\\n* It supports [diverse conversation patterns](https://microsoft.github.io/autogen/docs/Use-Cases/agent_chat#supporting-diverse-conversation-patterns) for complex workflows. With customizable and conversable agents, developers can use AutoGen to build a wide range of conversation patterns concerning conversation autonomy,\\nthe number of agents, and agent conversation topology.\\n* It provides a collection of working systems with different complexities. These systems span a [wide range of applications](https://microsoft.github.io/autogen/docs/Use-Cases/agent_chat#diverse-applications-implemented-with-autogen) from various domains and complexities. This demonstrates how AutoGen can easily support diverse conversation patterns.\\n* AutoGen provides [enhanced LLM inference](https://microsoft.github.io/autogen/docs/Use-Cases/enhanced_inference#api-unification). It offers utilities like API unification and caching, and advanced usage patterns, such as error handling, multi-config inference, context programming, etc.\\n\\nAutoGen is powered by collaborative [research studies](/autogen/docs/Research) from Microsoft, Penn State University, and University of Washington.\\n\\n### Quickstart[\\u200b](#quickstart \"Direct link to Quickstart\")\\n\\nInstall from pip: `pip install pyautogen`. Find more options in [Installation](/autogen/docs/installation/).\\nFor [code execution](/autogen/docs/FAQ#code-execution), we strongly recommend installing the python docker package, and using docker.\\n\\n#### Multi-Agent Conversation Framework[\\u200b](#multi-agent-conversation-framework \"Direct link to Multi-Agent Conversation Framework\")\\n\\nAutogen enables the next-gen LLM applications with a generic multi-agent conversation framework. It offers customizable and conversable agents which integrate LLMs, tools, and humans.\\nBy automating chat among multiple capable agents, one can easily make them collectively perform tasks autonomously or with human feedback, including tasks that require using tools via code. For [example](https://github.com/microsoft/autogen/blob/main/test/twoagent.py),\\n\\n```\\nfrom autogen import AssistantAgent, UserProxyAgent, config\\\\_list\\\\_from\\\\_json  \\n  \\n# Load LLM inference endpoints from an env variable or a file  \\n# See https://microsoft.github.io/autogen/docs/FAQ#set-your-api-endpoints  \\n# and OAI\\\\_CONFIG\\\\_LIST\\\\_sample.json ', 'role': 'user'}, {'content': \"Find Microsoft's Wikipedia page.\", 'role': 'assistant'}, {'content': 'Address: https://en.wikipedia.org/wiki/Microsoft\\nTitle: Microsoft - Wikipedia\\nViewport position: Showing page 1 of 66.\\n=======================\\n# Microsoft\\n\\nAmerican multinational technology corporation\\n\\nMicrosoft Corporation| [A square divided into four sub-squares, colored red-orange, green, yellow and blue (clockwise), with the company name appearing to its right](/wiki/File:Microsoft_logo_(2012).svg) |\\n| Building 92 on the [Microsoft Redmond campus](/wiki/Microsoft_Redmond_campus \"Microsoft Redmond campus\") |\\n| Company type | [Public](/wiki/Public_company \"Public company\") |\\n| [Traded as](/wiki/Ticker_symbol \"Ticker symbol\") | * [Nasdaq](/wiki/Nasdaq \"Nasdaq\"):\\xa0[MSFT](https://www.nasdaq.com/market-activity/stocks/msft)\\n* [Nasdaq-100](/wiki/Nasdaq-100 \"Nasdaq-100\") component\\n* [DJIA](/wiki/Dow_Jones_Industrial_Average \"Dow Jones Industrial Average\") component\\n* [S&P 100](/wiki/S%26P_100 \"S&P 100\") component\\n* [S&P 500](/wiki/S%26P_500 \"S&P 500\") component\\n |\\n| [ISIN](/wiki/International_Securities_Identification_Number \"International Securities Identification Number\") | [US5949181045](https://isin.toolforge.org/?language=en&isin=US5949181045) |\\n| Industry | [Information technology](/wiki/Information_technology \"Information technology\") |\\n| Founded | April\\xa04, 1975; 48 years ago\\xa0(1975-04-04) in [Albuquerque, New Mexico](/wiki/Albuquerque,_New_Mexico \"Albuquerque, New Mexico\"), U.S. |\\n| Founders | * [Bill Gates](/wiki/Bill_Gates \"Bill Gates\")\\n* [Paul Allen](/wiki/Paul_Allen \"Paul Allen\")\\n |\\n| Headquarters | [One Microsoft Way](/wiki/One_Microsoft_Way \"One Microsoft Way\"), [Redmond, Washington](/wiki/Redmond,_Washington \"Redmond, Washington\"), U.S. |\\n| Area served | Worldwide |\\n| Key people | * [Satya Nadella](/wiki/Satya_Nadella \"Satya Nadella\")([Chairman](/wiki/Chairman \"Chairman\") & [CEO](/wiki/Chief_executive_officer \"Chief executive officer\"))\\n* [Brad Smith](/wiki/Brad_Smith_(American_lawyer) \"Brad Smith (American lawyer)\")([Vice Chairman](/wiki/Vice-Chairman \"Vice-Chairman\") & [President](/wiki/President_(corporate_title) \"President (corporate title)\"))\\n* Bill Gates([technical adviser](/wiki/Adviser \"Adviser\"))\\n |\\n| Products | * [Software development](/wiki/Software_development \"Software development\")\\n* [Computer hardware](/wiki/Computer_hardware \"Computer hardware\")\\n* [Consumer electronics](/wiki/Consumer_electronics \"Consumer electronics\")\\n* [Social networking service](/wiki/Social_networking_service \"Social networking service\")\\n* [Cloud computing](/wiki/Cloud_computing \"Cloud computing\")\\n* [Video games](/wiki/Video_game_industry \"Video game industry\")\\n* [Internet](/wiki/Internet \"Internet\")\\n* [Corporate venture capital](/wiki/Corporate_venture_capital \"Corporate venture capital\")\\n |\\n| Brands | \\n* [Windows](/wiki/Microsoft_Windows \"Microsoft Windows\")\\n* [Microsoft 365](/wiki/Microsoft_365 \"Microsoft 365\")\\n* [Skype](/wiki/Skype \"Skype\")\\n* [Visual Studio](/wiki/Visual_Studio \"Visual Studio\")\\n* [Xbox](/wiki/Xbox \"Xbox\")\\n* [Dynamics](/wiki/Microsoft_Dynamics_365 \"Microsoft Dynamics 365\")\\n* [Surface](/wiki/Microsoft_Surface \"Microsoft Surface\")\\n\\n |\\n| Services | \\n* [Edge](/wiki/Microsoft_Edge \"Microsoft Edge\")\\n* [Azure](/wiki/Microsoft_Azure \"Microsoft Azure\")\\n* [Bing](/wiki/Microsoft_Bing \"Microsoft Bing\")\\n* [LinkedIn](/wiki/LinkedIn \"LinkedIn\")\\n* [Yammer](/wiki/Yammer \"Yammer\")\\n* [Microsoft 365](/wiki/Microsoft_365 \"Microsoft 365\")\\n* [OneDrive](/wiki/OneDrive \"OneDrive\")\\n* [Outlook](/wiki/Microsoft_Outlook \"Microsoft Outlook\")\\n* [GitHub](/wiki/GitHub \"GitHub\")\\n* [Microsoft Store](/wiki/Microsoft_Store_(digital) \"Microsoft Store (digital)\")\\n* [Windows Update](/wiki/Windows_Update \"Windows Update\")\\n* [Xbox Game Pass](/wiki/Xbox_Game_Pass \"Xbox Game Pass\")\\n* [Xbox network](/wiki/Xbox_network \"Xbox network\")\\n\\n |\\n| Revenue | Increase [US$](/wiki/United_States_dollar \"United States dollar\")211.9 billion (2023) |\\n| [Operating income](/wiki/Earnings_before_interest_and_taxes \"Earnings before interest and taxes\") | Increase US$88.5 billion (2023) |\\n| [Net income](/wiki/Net_income \"Net income\") | Increase US$73.4 billion (2023) |\\n| [Total assets](/wiki/Asset \"Asset\") | Increase US$411.9 billion (2023) |\\n| [Total equity](/wiki/Equity_(finance) \"Equity (finance)\") | Increase ', 'role': 'user'}, {'content': 'Scroll down.', 'role': 'assistant'}, {'content': 'Address: https://en.wikipedia.org/wiki/Microsoft\\nTitle: Microsoft - Wikipedia\\nViewport position: Showing page 2 of 66.\\n=======================\\nUS$206.2 billion (2023) |\\n| Number of employees | 221,000 (2023) |\\n| [Divisions](/wiki/Division_(business) \"Division (business)\") | \\n* [Microsoft Engineering Groups](/wiki/Microsoft_engineering_groups \"Microsoft engineering groups\")\\n* [Microsoft Digital Crimes Unit](/wiki/Microsoft_Digital_Crimes_Unit \"Microsoft Digital Crimes Unit\")\\n* [Microsoft Press](/wiki/Microsoft_Press \"Microsoft Press\")\\n* [Microsoft Gaming](/wiki/Microsoft_Gaming \"Microsoft Gaming\")\\n\\n |\\n| [Subsidiaries](/wiki/Subsidiary \"Subsidiary\") | \\n* [Microsoft Japan](/wiki/Microsoft_Japan \"Microsoft Japan\")\\n* [Microsoft India](/wiki/Microsoft_India \"Microsoft India\")\\n* [Microsoft Egypt](/wiki/Microsoft_Egypt \"Microsoft Egypt\")\\n* [GitHub](/wiki/GitHub \"GitHub\")\\n* [LinkedIn](/wiki/LinkedIn \"LinkedIn\")\\n* [Metaswitch](/wiki/Metaswitch \"Metaswitch\")\\n* [Nuance Communications](/wiki/Nuance_Communications \"Nuance Communications\")\\n* [RiskIQ](/wiki/RiskIQ \"RiskIQ\")\\n* [Skype Technologies](/wiki/Skype_Technologies \"Skype Technologies\")\\n* [Xamarin](/wiki/Xamarin \"Xamarin\")\\n* [Xandr](/wiki/Xandr \"Xandr\")\\n\\n |\\n|  |\\n| [ASN](/wiki/Autonomous_System_Number \"Autonomous System Number\") | * [8075](https://bgp.tools/as/8075)\\n |\\n|  |\\n| Website | [microsoft.com](https://www.microsoft.com/) |\\n| **Footnotes\\xa0/ references**Financials as of June\\xa030, 2023[[update]](https://en.wikipedia.org/w/index.php?title=Microsoft&action=edit)[[1]](#cite_note-1) |\\n\\n|  |  |  |\\n| --- | --- | --- |\\n| \\n\\n|  |  |\\n| --- | --- |\\n| [Bill Gates in 2023](/wiki/File:Bill_Gates_2017_(cropped).jpg) | This article is part of a series about\\n[Bill Gates](/wiki/Bill_Gates \"Bill Gates\") |\\n\\n |\\n| * [Awards and honors](/wiki/Bill_Gates#Recognition \"Bill Gates\")\\n* [Philanthropy](/wiki/Bill_Gates#Philanthropy \"Bill Gates\")\\n* [Political positions](/wiki/Bill_Gates#Political_positions \"Bill Gates\")\\n* [Public image](/wiki/Bill_Gates#Public_image \"Bill Gates\")\\n* [Residence](/wiki/Bill_Gates%27s_house \"Bill Gates\\'s house\")\\n\\n---\\n\\nCompanies* [Traf-O-Data](/wiki/Traf-O-Data \"Traf-O-Data\")\\n* Microsoft ([criticism](/wiki/Criticism_of_Microsoft \"Criticism of Microsoft\"))\\n* [BEN](/wiki/Branded_Entertainment_Network \"Branded Entertainment Network\")\\n* [Cascade Investment](/wiki/Cascade_Investment \"Cascade Investment\")\\n* [TerraPower](/wiki/TerraPower \"TerraPower\")\\n* [Gates Ventures](/wiki/Gates_Ventures \"Gates Ventures\")\\n\\n---\\n\\nCharitable organizations* [Bill & Melinda Gates Foundation](/wiki/Bill_%26_Melinda_Gates_Foundation \"Bill & Melinda Gates Foundation\")\\n* [Match for Africa](/wiki/Match_for_Africa \"Match for Africa\")\\n* [The Giving Pledge](/wiki/The_Giving_Pledge \"The Giving Pledge\")\\n* [OER Project](/wiki/OER_Project \"OER Project\")\\n* [Breakthrough Energy](/wiki/Breakthrough_Energy \"Breakthrough Energy\")\\n* [Mission Innovation](/wiki/Mission_Innovation \"Mission Innovation\")\\n\\n---\\n\\nWritings* \"[An Open Letter to Hobbyists](/wiki/An_Open_Letter_to_Hobbyists \"An Open Letter to Hobbyists\")\"\\n* *[The Road Ahead](/wiki/The_Road_Ahead_(Gates_book) \"The Road Ahead (Gates book)\")*\\n* *[Business @ the Speed of Thought](/wiki/Business_@_the_Speed_of_Thought \"Business @ the Speed of Thought\")*\\n* *[How to Avoid a Climate Disaster](/wiki/How_to_Avoid_a_Climate_Disaster \"How to Avoid a Climate Disaster\")*\\n* *[How to Prevent the Next Pandemic](/wiki/How_to_Prevent_the_Next_Pandemic \"How to Prevent the Next Pandemic\")*\\n\\n---\\n\\nRelated* [Bill Gates\\' flower fly](/wiki/Bill_Gates%27_flower_fly \"Bill Gates\\' flower fly\")\\n* [Codex Leicester](/wiki/Codex_Leicester \"Codex Leicester\")\\n* *[Lost on the Grand Banks](/wiki/Lost_on_the_Grand_Banks \"Lost on the Grand Banks\")*\\n* [History of Microsoft](/wiki/History_of_Microsoft \"History of Microsoft\")\\n* [Timeline of Microsoft](/wiki/Timeline_of_Microsoft \"Timeline of Microsoft\")\\n* [Paul Allen](/wiki/Paul_Allen \"Paul Allen\")\\n\\n---\\n\\n |\\n| * [v](/wiki/Template:Bill_Gates_series \"Template:Bill Gates series\")\\n* [t](/wiki/Template_talk:Bill_Gates_series \"Template talk:Bill Gates series\")\\n* [e](/wiki/Special:EditPage/Template:Bill_Gates_series \"Special:EditPage/Template:Bill Gates series\")\\n |\\n\\n**Microsoft Corporation** is an American multinational ', 'role': 'user'}, {'content': 'Where was the first office location, and when did they move to Redmond?', 'role': 'assistant'}, {'content': \"Microsoft was founded on April 4, 1975, in Albuquerque, New Mexico. The company moved its headquarters to Bellevue, Washington, in January 1979. Microsoft entered the operating system business in 1980 with its own version of Unix called Xenix, but it was MS-DOS that solidified the company's dominance. In 1985, Microsoft released Windows 1.0, and in 1990, the company introduced the Microsoft Office suite. In 2000, Bill Gates handed over the CEO position to Steve Ballmer, and in 2014, Satya Nadella succeeded Ballmer as the CEO of Microsoft. In 2015, Microsoft released Windows 10, and in 2016, the company joined the Linux Foundation as a Platinum member. In 2018, Microsoft acquired GitHub for $7.5 billion and announced the closure of its Mixer service. In 2020, Microsoft announced plans to acquire TikTok and finalized the acquisition of ZeniMax Media, the parent company of Bethesda Softworks, for about $7.5 billion. Additionally, Microsoft released the Xbox Series X and Xbox Series S video game consoles in November 2020.\", 'role': 'user'}], summary=\"Microsoft was founded on April 4, 1975, in Albuquerque, New Mexico. The company moved its headquarters to Bellevue, Washington, in January 1979. Microsoft entered the operating system business in 1980 with its own version of Unix called Xenix, but it was MS-DOS that solidified the company's dominance. In 1985, Microsoft released Windows 1.0, and in 1990, the company introduced the Microsoft Office suite. In 2000, Bill Gates handed over the CEO position to Steve Ballmer, and in 2014, Satya Nadella succeeded Ballmer as the CEO of Microsoft. In 2015, Microsoft released Windows 10, and in 2016, the company joined the Linux Foundation as a Platinum member. In 2018, Microsoft acquired GitHub for $7.5 billion and announced the closure of its Mixer service. In 2020, Microsoft announced plans to acquire TikTok and finalized the acquisition of ZeniMax Media, the parent company of Bethesda Softworks, for about $7.5 billion. Additionally, Microsoft released the Xbox Series X and Xbox Series S video game consoles in November 2020.\", cost=({'total_cost': 0}, {'total_cost': 0}), human_input=[])"
      ]
     },
     "execution_count": 12,
     "metadata": {},
     "output_type": "execute_result"
    }
   ],
   "source": [
    "task6 = \"\"\"Where was the first office location, and when did they move to Redmond?\"\"\"\n",
    "user_proxy.initiate_chat(web_surfer, message=task6, clear_history=False)"
   ]
  },
  {
   "cell_type": "markdown",
   "metadata": {},
   "source": [
    "### Example 3: Headless chrome browser\n",
    "\n",
    "Perform the same steps as in example 1 but with headless option. This example uses Selenium for Bing search queries so you won't need the Bing search API key."
   ]
  },
  {
   "cell_type": "markdown",
   "metadata": {},
   "source": [
    "The only difference while constructing agents is to use `True` for `headless` in `browser_config`."
   ]
  },
  {
   "cell_type": "code",
   "execution_count": 13,
   "metadata": {},
   "outputs": [],
   "source": [
    "web_surfer = WebSurferAgent(\n",
    "    \"web_surfer\",\n",
    "    llm_config=llm_config,\n",
    "    summarizer_llm_config=summarizer_llm_config,\n",
    "    browser_config={\"headless\": True, \"viewport_size\": 4096, \"bing_api_key\": bing_api_key},\n",
    ")\n",
    "\n",
    "user_proxy = autogen.UserProxyAgent(\n",
    "    \"user_proxy\",\n",
    "    human_input_mode=\"NEVER\",\n",
    "    code_execution_config=False,\n",
    "    default_auto_reply=\"\",\n",
    "    is_termination_msg=lambda x: True,\n",
    ")"
   ]
  },
  {
   "cell_type": "code",
   "execution_count": 14,
   "metadata": {},
   "outputs": [
    {
     "name": "stdout",
     "output_type": "stream",
     "text": [
      "\u001b[33muser_proxy\u001b[0m (to web_surfer):\n",
      "\n",
      "\n",
      "Search the web for information about Microsoft AutoGen\n",
      "\n",
      "\n",
      "--------------------------------------------------------------------------------\n",
      "\u001b[31m\n",
      ">>>>>>>> USING AUTO REPLY...\u001b[0m\n",
      "\u001b[35m\n",
      ">>>>>>>> EXECUTING FUNCTION informational_web_search...\u001b[0m\n",
      "\u001b[33mweb_surfer\u001b[0m (to user_proxy):\n",
      "\n",
      "Address: https://www.bing.com/search?q=Microsoft+AutoGen&form=QBLH\n",
      "Viewport position: Showing page 1 of 2.\n",
      "=======================\n",
      "About 97,00,000 results[Date](javascript:) 1. [microsoft.comhttps://www.microsoft.com/en-us/research/blog/autogen-enabling-next...](https://www.microsoft.com/en-us/research/blog/autogen-enabling-next-generation-large-language-model-applications/)[**AutoGen**: Enabling next-generation large language model …](https://www.microsoft.com/en-us/research/blog/autogen-enabling-next-generation-large-language-model-applications/)\n",
      "---------------------------------------------------------------------------------------------------------------------------------------------------------------------------------\n",
      "\n",
      "webSep 25, 2023 · **Microsoft** researchers are introducing **AutoGen**, a framework for simplifying the orchestration, optimization, and automation of workflows for large language model (LLM) applications—potentially transforming and extending what LLMs can do.\n",
      "2. [github.comhttps://github.com/microsoft/autogen](https://github.com/microsoft/autogen)[GitHub - **microsoft/autogen**: Enable Next-Gen Large Language …](https://github.com/microsoft/autogen)\n",
      "--------------------------------------------------------------------------------------------------------\n",
      "\n",
      "web**AutoGen** is a framework that enables the development of LLM applications using multiple agents that can converse with each other to solve tasks. **AutoGen** agents are customizable, conversable, and seamlessly allow human participation. They can operate in various modes that employ combinations of LLMs, human inputs, and tools.\n",
      "3. [microsoft.github.iohttps://microsoft.github.io/autogen/docs/Getting-Started](https://microsoft.github.io/autogen/docs/Getting-Started/)[Getting Started | **AutoGen** - **microsoft**.github.io](https://microsoft.github.io/autogen/docs/Getting-Started/)\n",
      "--------------------------------------------------------------------------------------------------------------------\n",
      "\n",
      "web**AutoGen** provides enhanced LLM inference. It offers utilities like API unification and caching, and advanced usage patterns, such as error handling, multi-config inference, context programming, etc. **AutoGen** is powered by collaborative research studies from **Microsoft**, Penn State University, and University of Washington.\n",
      "4. [microsoft.github.iohttps://microsoft.github.io/autogen](https://microsoft.github.io/autogen/)[**AutoGen** | **AutoGen** - **microsoft**.github.io](https://microsoft.github.io/autogen/)\n",
      "-------------------------------------------------------------------------------------------\n",
      "\n",
      "web**AutoGen** offers a collection of working systems spanning a wide range of applications from various domains and complexities. Enhanced LLM Inference & Optimization. **AutoGen** supports enhanced LLM inference APIs, which can be used to improve inference performance and reduce cost.\n",
      "5. [microsoft.comhttps://www.microsoft.com/en-us/research/project/autogen](https://www.microsoft.com/en-us/research/project/autogen/)[**AutoGen** - **Microsoft** Research](https://www.microsoft.com/en-us/research/project/autogen/)\n",
      "-------------------------------------------------------------------------------------------------\n",
      "\n",
      "web**AutoGen**. **AutoGen** provides a multi-agent conversation framework as a high-level abstraction. It is an open-source library for enabling next-generation LLM applications with multi-agent collaborations, teachability and personalization. With this framework, users can build LLM workflows.\n",
      "6. [microsoft.github.iohttps://microsoft.github.io/autogen/blog/2023/12/01/AutoGenStudio](https://microsoft.github.io/autogen/blog/2023/12/01/AutoGenStudio/)[**AutoGen** Studio: Interactively Explore Multi-Agent Workflows](https://microsoft.github.io/autogen/blog/2023/12/01/AutoGenStudio/)\n",
      "-------------------------------------------------------------------------------------------------------------------------------------\n",
      "\n",
      "webDec 1, 2023 · Now that you have **AutoGen** Studio installed and running, you are ready to explore its capabilities, including defining and modifying agent workflows, interacting with agents and sessions, and expanding agent skills.\n",
      "7. [microsoft.comhttps://t\n",
      "\n",
      "--------------------------------------------------------------------------------\n"
     ]
    },
    {
     "data": {
      "text/plain": [
       "ChatResult(chat_id=None, chat_history=[{'content': '\\nSearch the web for information about Microsoft AutoGen\\n', 'role': 'assistant'}, {'content': 'Address: https://www.bing.com/search?q=Microsoft+AutoGen&form=QBLH\\nViewport position: Showing page 1 of 2.\\n=======================\\nAbout 97,00,000 results[Date](javascript:) 1. [microsoft.comhttps://www.microsoft.com/en-us/research/blog/autogen-enabling-next...](https://www.microsoft.com/en-us/research/blog/autogen-enabling-next-generation-large-language-model-applications/)[**AutoGen**: Enabling next-generation large language model …](https://www.microsoft.com/en-us/research/blog/autogen-enabling-next-generation-large-language-model-applications/)\\n---------------------------------------------------------------------------------------------------------------------------------------------------------------------------------\\n\\nwebSep 25, 2023\\xa0· **Microsoft** researchers are introducing **AutoGen**, a framework for simplifying the orchestration, optimization, and automation of workflows for large language model (LLM) applications—potentially transforming and extending what LLMs can do.\\n2. [github.comhttps://github.com/microsoft/autogen](https://github.com/microsoft/autogen)[GitHub - **microsoft/autogen**: Enable Next-Gen Large Language …](https://github.com/microsoft/autogen)\\n--------------------------------------------------------------------------------------------------------\\n\\nweb**AutoGen** is a framework that enables the development of LLM applications using multiple agents that can converse with each other to solve tasks. **AutoGen** agents are customizable, conversable, and seamlessly allow human participation. They can operate in various modes that employ combinations of LLMs, human inputs, and tools.\\n3. [microsoft.github.iohttps://microsoft.github.io/autogen/docs/Getting-Started](https://microsoft.github.io/autogen/docs/Getting-Started/)[Getting Started | **AutoGen** - **microsoft**.github.io](https://microsoft.github.io/autogen/docs/Getting-Started/)\\n--------------------------------------------------------------------------------------------------------------------\\n\\nweb**AutoGen** provides enhanced LLM inference. It offers utilities like API unification and caching, and advanced usage patterns, such as error handling, multi-config inference, context programming, etc. **AutoGen** is powered by collaborative research studies from **Microsoft**, Penn State University, and University of Washington.\\n4. [microsoft.github.iohttps://microsoft.github.io/autogen](https://microsoft.github.io/autogen/)[**AutoGen** | **AutoGen** - **microsoft**.github.io](https://microsoft.github.io/autogen/)\\n-------------------------------------------------------------------------------------------\\n\\nweb**AutoGen** offers a collection of working systems spanning a wide range of applications from various domains and complexities. Enhanced LLM Inference & Optimization. **AutoGen** supports enhanced LLM inference APIs, which can be used to improve inference performance and reduce cost.\\n5. [microsoft.comhttps://www.microsoft.com/en-us/research/project/autogen](https://www.microsoft.com/en-us/research/project/autogen/)[**AutoGen** - **Microsoft** Research](https://www.microsoft.com/en-us/research/project/autogen/)\\n-------------------------------------------------------------------------------------------------\\n\\nweb**AutoGen**. **AutoGen** provides a multi-agent conversation framework as a high-level abstraction. It is an open-source library for enabling next-generation LLM applications with multi-agent collaborations, teachability and personalization. With this framework, users can build LLM workflows.\\n6. [microsoft.github.iohttps://microsoft.github.io/autogen/blog/2023/12/01/AutoGenStudio](https://microsoft.github.io/autogen/blog/2023/12/01/AutoGenStudio/)[**AutoGen** Studio: Interactively Explore Multi-Agent Workflows](https://microsoft.github.io/autogen/blog/2023/12/01/AutoGenStudio/)\\n-------------------------------------------------------------------------------------------------------------------------------------\\n\\nwebDec 1, 2023\\xa0· Now that you have **AutoGen** Studio installed and running, you are ready to explore its capabilities, including defining and modifying agent workflows, interacting with agents and sessions, and expanding agent skills.\\n7. [microsoft.comhttps://t', 'role': 'user'}], summary='Address: https://www.bing.com/search?q=Microsoft+AutoGen&form=QBLH\\nViewport position: Showing page 1 of 2.\\n=======================\\nAbout 97,00,000 results[Date](javascript:) 1. [microsoft.comhttps://www.microsoft.com/en-us/research/blog/autogen-enabling-next...](https://www.microsoft.com/en-us/research/blog/autogen-enabling-next-generation-large-language-model-applications/)[**AutoGen**: Enabling next-generation large language model …](https://www.microsoft.com/en-us/research/blog/autogen-enabling-next-generation-large-language-model-applications/)\\n---------------------------------------------------------------------------------------------------------------------------------------------------------------------------------\\n\\nwebSep 25, 2023\\xa0· **Microsoft** researchers are introducing **AutoGen**, a framework for simplifying the orchestration, optimization, and automation of workflows for large language model (LLM) applications—potentially transforming and extending what LLMs can do.\\n2. [github.comhttps://github.com/microsoft/autogen](https://github.com/microsoft/autogen)[GitHub - **microsoft/autogen**: Enable Next-Gen Large Language …](https://github.com/microsoft/autogen)\\n--------------------------------------------------------------------------------------------------------\\n\\nweb**AutoGen** is a framework that enables the development of LLM applications using multiple agents that can converse with each other to solve tasks. **AutoGen** agents are customizable, conversable, and seamlessly allow human participation. They can operate in various modes that employ combinations of LLMs, human inputs, and tools.\\n3. [microsoft.github.iohttps://microsoft.github.io/autogen/docs/Getting-Started](https://microsoft.github.io/autogen/docs/Getting-Started/)[Getting Started | **AutoGen** - **microsoft**.github.io](https://microsoft.github.io/autogen/docs/Getting-Started/)\\n--------------------------------------------------------------------------------------------------------------------\\n\\nweb**AutoGen** provides enhanced LLM inference. It offers utilities like API unification and caching, and advanced usage patterns, such as error handling, multi-config inference, context programming, etc. **AutoGen** is powered by collaborative research studies from **Microsoft**, Penn State University, and University of Washington.\\n4. [microsoft.github.iohttps://microsoft.github.io/autogen](https://microsoft.github.io/autogen/)[**AutoGen** | **AutoGen** - **microsoft**.github.io](https://microsoft.github.io/autogen/)\\n-------------------------------------------------------------------------------------------\\n\\nweb**AutoGen** offers a collection of working systems spanning a wide range of applications from various domains and complexities. Enhanced LLM Inference & Optimization. **AutoGen** supports enhanced LLM inference APIs, which can be used to improve inference performance and reduce cost.\\n5. [microsoft.comhttps://www.microsoft.com/en-us/research/project/autogen](https://www.microsoft.com/en-us/research/project/autogen/)[**AutoGen** - **Microsoft** Research](https://www.microsoft.com/en-us/research/project/autogen/)\\n-------------------------------------------------------------------------------------------------\\n\\nweb**AutoGen**. **AutoGen** provides a multi-agent conversation framework as a high-level abstraction. It is an open-source library for enabling next-generation LLM applications with multi-agent collaborations, teachability and personalization. With this framework, users can build LLM workflows.\\n6. [microsoft.github.iohttps://microsoft.github.io/autogen/blog/2023/12/01/AutoGenStudio](https://microsoft.github.io/autogen/blog/2023/12/01/AutoGenStudio/)[**AutoGen** Studio: Interactively Explore Multi-Agent Workflows](https://microsoft.github.io/autogen/blog/2023/12/01/AutoGenStudio/)\\n-------------------------------------------------------------------------------------------------------------------------------------\\n\\nwebDec 1, 2023\\xa0· Now that you have **AutoGen** Studio installed and running, you are ready to explore its capabilities, including defining and modifying agent workflows, interacting with agents and sessions, and expanding agent skills.\\n7. [microsoft.comhttps://t', cost=({'total_cost': 0}, {'total_cost': 0}), human_input=[])"
      ]
     },
     "execution_count": 14,
     "metadata": {},
     "output_type": "execute_result"
    }
   ],
   "source": [
    "task1 = \"\"\"\n",
    "Search the web for information about Microsoft AutoGen\n",
    "\"\"\"\n",
    "\n",
    "user_proxy.initiate_chat(web_surfer, message=task1)"
   ]
  },
  {
   "cell_type": "code",
   "execution_count": 15,
   "metadata": {},
   "outputs": [
    {
     "name": "stdout",
     "output_type": "stream",
     "text": [
      "\u001b[33muser_proxy\u001b[0m (to web_surfer):\n",
      "\n",
      "Summarize these results\n",
      "\n",
      "--------------------------------------------------------------------------------\n",
      "\u001b[31m\n",
      ">>>>>>>> USING AUTO REPLY...\u001b[0m\n",
      "\u001b[35m\n",
      ">>>>>>>> EXECUTING FUNCTION summarize_page...\u001b[0m\n",
      "\u001b[33mweb_surfer\u001b[0m (to user_proxy):\n",
      "\n",
      "AutoGen is a framework developed by Microsoft researchers to simplify the orchestration, optimization, and automation of workflows for large language model (LLM) applications. It enables the development of LLM applications using multiple agents that can converse with each other to solve tasks, and these agents are customizable, conversable, and allow human participation. AutoGen offers enhanced LLM inference, supports a wide range of applications, and provides a multi-agent conversation framework as a high-level abstraction. It is an open-source library for enabling next-generation LLM applications with multi-agent collaborations, teachability, and personalization. AutoGen is designed to simplify the process of creating and maintaining libraries of data structures and routines, and it can significantly speed up the development process in various programming projects.\n",
      "\n",
      "In summary, AutoGen is a versatile and powerful framework that aims to transform and extend the capabilities of large language model applications by enabling multi-agent collaborations, enhancing inference, and simplifying the development process for LLM applications.\n",
      "\n",
      "--------------------------------------------------------------------------------\n"
     ]
    },
    {
     "data": {
      "text/plain": [
       "ChatResult(chat_id=None, chat_history=[{'content': '\\nSearch the web for information about Microsoft AutoGen\\n', 'role': 'assistant'}, {'content': 'Address: https://www.bing.com/search?q=Microsoft+AutoGen&form=QBLH\\nViewport position: Showing page 1 of 2.\\n=======================\\nAbout 97,00,000 results[Date](javascript:) 1. [microsoft.comhttps://www.microsoft.com/en-us/research/blog/autogen-enabling-next...](https://www.microsoft.com/en-us/research/blog/autogen-enabling-next-generation-large-language-model-applications/)[**AutoGen**: Enabling next-generation large language model …](https://www.microsoft.com/en-us/research/blog/autogen-enabling-next-generation-large-language-model-applications/)\\n---------------------------------------------------------------------------------------------------------------------------------------------------------------------------------\\n\\nwebSep 25, 2023\\xa0· **Microsoft** researchers are introducing **AutoGen**, a framework for simplifying the orchestration, optimization, and automation of workflows for large language model (LLM) applications—potentially transforming and extending what LLMs can do.\\n2. [github.comhttps://github.com/microsoft/autogen](https://github.com/microsoft/autogen)[GitHub - **microsoft/autogen**: Enable Next-Gen Large Language …](https://github.com/microsoft/autogen)\\n--------------------------------------------------------------------------------------------------------\\n\\nweb**AutoGen** is a framework that enables the development of LLM applications using multiple agents that can converse with each other to solve tasks. **AutoGen** agents are customizable, conversable, and seamlessly allow human participation. They can operate in various modes that employ combinations of LLMs, human inputs, and tools.\\n3. [microsoft.github.iohttps://microsoft.github.io/autogen/docs/Getting-Started](https://microsoft.github.io/autogen/docs/Getting-Started/)[Getting Started | **AutoGen** - **microsoft**.github.io](https://microsoft.github.io/autogen/docs/Getting-Started/)\\n--------------------------------------------------------------------------------------------------------------------\\n\\nweb**AutoGen** provides enhanced LLM inference. It offers utilities like API unification and caching, and advanced usage patterns, such as error handling, multi-config inference, context programming, etc. **AutoGen** is powered by collaborative research studies from **Microsoft**, Penn State University, and University of Washington.\\n4. [microsoft.github.iohttps://microsoft.github.io/autogen](https://microsoft.github.io/autogen/)[**AutoGen** | **AutoGen** - **microsoft**.github.io](https://microsoft.github.io/autogen/)\\n-------------------------------------------------------------------------------------------\\n\\nweb**AutoGen** offers a collection of working systems spanning a wide range of applications from various domains and complexities. Enhanced LLM Inference & Optimization. **AutoGen** supports enhanced LLM inference APIs, which can be used to improve inference performance and reduce cost.\\n5. [microsoft.comhttps://www.microsoft.com/en-us/research/project/autogen](https://www.microsoft.com/en-us/research/project/autogen/)[**AutoGen** - **Microsoft** Research](https://www.microsoft.com/en-us/research/project/autogen/)\\n-------------------------------------------------------------------------------------------------\\n\\nweb**AutoGen**. **AutoGen** provides a multi-agent conversation framework as a high-level abstraction. It is an open-source library for enabling next-generation LLM applications with multi-agent collaborations, teachability and personalization. With this framework, users can build LLM workflows.\\n6. [microsoft.github.iohttps://microsoft.github.io/autogen/blog/2023/12/01/AutoGenStudio](https://microsoft.github.io/autogen/blog/2023/12/01/AutoGenStudio/)[**AutoGen** Studio: Interactively Explore Multi-Agent Workflows](https://microsoft.github.io/autogen/blog/2023/12/01/AutoGenStudio/)\\n-------------------------------------------------------------------------------------------------------------------------------------\\n\\nwebDec 1, 2023\\xa0· Now that you have **AutoGen** Studio installed and running, you are ready to explore its capabilities, including defining and modifying agent workflows, interacting with agents and sessions, and expanding agent skills.\\n7. [microsoft.comhttps://t', 'role': 'user'}, {'content': 'Summarize these results', 'role': 'assistant'}, {'content': 'AutoGen is a framework developed by Microsoft researchers to simplify the orchestration, optimization, and automation of workflows for large language model (LLM) applications. It enables the development of LLM applications using multiple agents that can converse with each other to solve tasks, and these agents are customizable, conversable, and allow human participation. AutoGen offers enhanced LLM inference, supports a wide range of applications, and provides a multi-agent conversation framework as a high-level abstraction. It is an open-source library for enabling next-generation LLM applications with multi-agent collaborations, teachability, and personalization. AutoGen is designed to simplify the process of creating and maintaining libraries of data structures and routines, and it can significantly speed up the development process in various programming projects.\\n\\nIn summary, AutoGen is a versatile and powerful framework that aims to transform and extend the capabilities of large language model applications by enabling multi-agent collaborations, enhancing inference, and simplifying the development process for LLM applications.', 'role': 'user'}], summary='AutoGen is a framework developed by Microsoft researchers to simplify the orchestration, optimization, and automation of workflows for large language model (LLM) applications. It enables the development of LLM applications using multiple agents that can converse with each other to solve tasks, and these agents are customizable, conversable, and allow human participation. AutoGen offers enhanced LLM inference, supports a wide range of applications, and provides a multi-agent conversation framework as a high-level abstraction. It is an open-source library for enabling next-generation LLM applications with multi-agent collaborations, teachability, and personalization. AutoGen is designed to simplify the process of creating and maintaining libraries of data structures and routines, and it can significantly speed up the development process in various programming projects.\\n\\nIn summary, AutoGen is a versatile and powerful framework that aims to transform and extend the capabilities of large language model applications by enabling multi-agent collaborations, enhancing inference, and simplifying the development process for LLM applications.', cost=({'total_cost': 0}, {'total_cost': 0}), human_input=[])"
      ]
     },
     "execution_count": 15,
     "metadata": {},
     "output_type": "execute_result"
    }
   ],
   "source": [
    "task2 = \"Summarize these results\"\n",
    "user_proxy.initiate_chat(web_surfer, message=task2, clear_history=False)"
   ]
  },
  {
   "cell_type": "code",
   "execution_count": 16,
   "metadata": {},
   "outputs": [
    {
     "name": "stdout",
     "output_type": "stream",
     "text": [
      "\u001b[33muser_proxy\u001b[0m (to web_surfer):\n",
      "\n",
      "Click the 'Getting Started' result\n",
      "\n",
      "--------------------------------------------------------------------------------\n",
      "\u001b[31m\n",
      ">>>>>>>> USING AUTO REPLY...\u001b[0m\n",
      "\u001b[35m\n",
      ">>>>>>>> EXECUTING FUNCTION navigational_web_search...\u001b[0m\n",
      "\u001b[33mweb_surfer\u001b[0m (to user_proxy):\n",
      "\n",
      "Address: https://microsoft.github.io/autogen/docs/Getting-Started/\n",
      "Viewport position: Showing page 1 of 2.\n",
      "=======================\n",
      "[Skip to main content](#__docusaurus_skipToContent_fallback)[![AutoGen](/autogen/img/ag.svg)**AutoGen**](/autogen/)[Docs](/autogen/docs/Getting-Started)[SDK](/autogen/docs/reference/agentchat/conversable_agent)[Blog](/autogen/blog)[FAQ](/autogen/docs/FAQ)[Examples](/autogen/docs/Examples)[Resources](#)* [Ecosystem](/autogen/docs/Ecosystem)\n",
      "* [Gallery](/autogen/docs/Gallery)\n",
      "[Other Languages](#)* [Dotnet](https://microsoft.github.io/autogen-for-net/)\n",
      "[GitHub](https://github.com/microsoft/autogen)`ctrl``K`[![AutoGen](/autogen/img/ag.svg)**AutoGen**](/autogen/)* [Docs](/autogen/docs/Getting-Started)\n",
      "* [SDK](/autogen/docs/reference/agentchat/conversable_agent)\n",
      "* [Blog](/autogen/blog)\n",
      "* [FAQ](/autogen/docs/FAQ)\n",
      "* [Examples](/autogen/docs/Examples)\n",
      "* Resources\n",
      "* Other Languages\n",
      "* [GitHub](https://github.com/microsoft/autogen)\n",
      "← Back to main menu* [Getting Started](/autogen/docs/Getting-Started)\n",
      "* [Installation](/autogen/docs/installation/)\n",
      "* [LLM Configuration](/autogen/docs/llm_configuration)\n",
      "* [Use Cases](#)\n",
      "* [Contributing](/autogen/docs/Contribute)\n",
      "* [Research](/autogen/docs/Research)\n",
      "* [Migration Guide](/autogen/docs/Migration-Guide)\n",
      "* \n",
      "* Getting Started\n",
      "On this pageGetting Started\n",
      "===============\n",
      "\n",
      "AutoGen is a framework that enables development of LLM applications using multiple agents that can converse with each other to solve tasks. AutoGen agents are customizable, conversable, and seamlessly allow human participation. They can operate in various modes that employ combinations of LLMs, human inputs, and tools.\n",
      "\n",
      "![AutoGen Overview](/autogen/assets/images/autogen_agentchat-250ca64b77b87e70d34766a080bf6ba8.png)\n",
      "\n",
      "### Main Features[​](#main-features \"Direct link to Main Features\")\n",
      "\n",
      "* AutoGen enables building next-gen LLM applications based on [multi-agent conversations](https://microsoft.github.io/autogen/docs/Use-Cases/agent_chat) with minimal effort. It simplifies the orchestration, automation, and optimization of a complex LLM workflow. It maximizes the performance of LLM models and overcomes their weaknesses.\n",
      "* It supports [diverse conversation patterns](https://microsoft.github.io/autogen/docs/Use-Cases/agent_chat#supporting-diverse-conversation-patterns) for complex workflows. With customizable and conversable agents, developers can use AutoGen to build a wide range of conversation patterns concerning conversation autonomy,\n",
      "the number of agents, and agent conversation topology.\n",
      "* It provides a collection of working systems with different complexities. These systems span a [wide range of applications](https://microsoft.github.io/autogen/docs/Use-Cases/agent_chat#diverse-applications-implemented-with-autogen) from various domains and complexities. This demonstrates how AutoGen can easily support diverse conversation patterns.\n",
      "* AutoGen provides [enhanced LLM inference](https://microsoft.github.io/autogen/docs/Use-Cases/enhanced_inference#api-unification). It offers utilities like API unification and caching, and advanced usage patterns, such as error handling, multi-config inference, context programming, etc.\n",
      "\n",
      "AutoGen is powered by collaborative [research studies](/autogen/docs/Research) from Microsoft, Penn State University, and University of Washington.\n",
      "\n",
      "### Quickstart[​](#quickstart \"Direct link to Quickstart\")\n",
      "\n",
      "Install from pip: `pip install pyautogen`. Find more options in [Installation](/autogen/docs/installation/).\n",
      "For [code execution](/autogen/docs/FAQ#code-execution), we strongly recommend installing the python docker package, and using docker.\n",
      "\n",
      "#### Multi-Agent Conversation Framework[​](#multi-agent-conversation-framework \"Direct link to Multi-Agent Conversation Framework\")\n",
      "\n",
      "Autogen enables the next-gen LLM applications with a generic multi-agent conversation framework. It offers customizable and conversable agents which integrate LLMs, tools, and humans.\n",
      "By automating chat among multiple capable agents, one can easily make them collectively perform tasks autonomously or with human feedback, including tasks that require using tools via code. For [example](https://github.com/microsoft/autogen/blob/main/test/two\n",
      "\n",
      "--------------------------------------------------------------------------------\n"
     ]
    },
    {
     "data": {
      "text/plain": [
       "ChatResult(chat_id=None, chat_history=[{'content': '\\nSearch the web for information about Microsoft AutoGen\\n', 'role': 'assistant'}, {'content': 'Address: https://www.bing.com/search?q=Microsoft+AutoGen&form=QBLH\\nViewport position: Showing page 1 of 2.\\n=======================\\nAbout 97,00,000 results[Date](javascript:) 1. [microsoft.comhttps://www.microsoft.com/en-us/research/blog/autogen-enabling-next...](https://www.microsoft.com/en-us/research/blog/autogen-enabling-next-generation-large-language-model-applications/)[**AutoGen**: Enabling next-generation large language model …](https://www.microsoft.com/en-us/research/blog/autogen-enabling-next-generation-large-language-model-applications/)\\n---------------------------------------------------------------------------------------------------------------------------------------------------------------------------------\\n\\nwebSep 25, 2023\\xa0· **Microsoft** researchers are introducing **AutoGen**, a framework for simplifying the orchestration, optimization, and automation of workflows for large language model (LLM) applications—potentially transforming and extending what LLMs can do.\\n2. [github.comhttps://github.com/microsoft/autogen](https://github.com/microsoft/autogen)[GitHub - **microsoft/autogen**: Enable Next-Gen Large Language …](https://github.com/microsoft/autogen)\\n--------------------------------------------------------------------------------------------------------\\n\\nweb**AutoGen** is a framework that enables the development of LLM applications using multiple agents that can converse with each other to solve tasks. **AutoGen** agents are customizable, conversable, and seamlessly allow human participation. They can operate in various modes that employ combinations of LLMs, human inputs, and tools.\\n3. [microsoft.github.iohttps://microsoft.github.io/autogen/docs/Getting-Started](https://microsoft.github.io/autogen/docs/Getting-Started/)[Getting Started | **AutoGen** - **microsoft**.github.io](https://microsoft.github.io/autogen/docs/Getting-Started/)\\n--------------------------------------------------------------------------------------------------------------------\\n\\nweb**AutoGen** provides enhanced LLM inference. It offers utilities like API unification and caching, and advanced usage patterns, such as error handling, multi-config inference, context programming, etc. **AutoGen** is powered by collaborative research studies from **Microsoft**, Penn State University, and University of Washington.\\n4. [microsoft.github.iohttps://microsoft.github.io/autogen](https://microsoft.github.io/autogen/)[**AutoGen** | **AutoGen** - **microsoft**.github.io](https://microsoft.github.io/autogen/)\\n-------------------------------------------------------------------------------------------\\n\\nweb**AutoGen** offers a collection of working systems spanning a wide range of applications from various domains and complexities. Enhanced LLM Inference & Optimization. **AutoGen** supports enhanced LLM inference APIs, which can be used to improve inference performance and reduce cost.\\n5. [microsoft.comhttps://www.microsoft.com/en-us/research/project/autogen](https://www.microsoft.com/en-us/research/project/autogen/)[**AutoGen** - **Microsoft** Research](https://www.microsoft.com/en-us/research/project/autogen/)\\n-------------------------------------------------------------------------------------------------\\n\\nweb**AutoGen**. **AutoGen** provides a multi-agent conversation framework as a high-level abstraction. It is an open-source library for enabling next-generation LLM applications with multi-agent collaborations, teachability and personalization. With this framework, users can build LLM workflows.\\n6. [microsoft.github.iohttps://microsoft.github.io/autogen/blog/2023/12/01/AutoGenStudio](https://microsoft.github.io/autogen/blog/2023/12/01/AutoGenStudio/)[**AutoGen** Studio: Interactively Explore Multi-Agent Workflows](https://microsoft.github.io/autogen/blog/2023/12/01/AutoGenStudio/)\\n-------------------------------------------------------------------------------------------------------------------------------------\\n\\nwebDec 1, 2023\\xa0· Now that you have **AutoGen** Studio installed and running, you are ready to explore its capabilities, including defining and modifying agent workflows, interacting with agents and sessions, and expanding agent skills.\\n7. [microsoft.comhttps://t', 'role': 'user'}, {'content': 'Summarize these results', 'role': 'assistant'}, {'content': 'AutoGen is a framework developed by Microsoft researchers to simplify the orchestration, optimization, and automation of workflows for large language model (LLM) applications. It enables the development of LLM applications using multiple agents that can converse with each other to solve tasks, and these agents are customizable, conversable, and allow human participation. AutoGen offers enhanced LLM inference, supports a wide range of applications, and provides a multi-agent conversation framework as a high-level abstraction. It is an open-source library for enabling next-generation LLM applications with multi-agent collaborations, teachability, and personalization. AutoGen is designed to simplify the process of creating and maintaining libraries of data structures and routines, and it can significantly speed up the development process in various programming projects.\\n\\nIn summary, AutoGen is a versatile and powerful framework that aims to transform and extend the capabilities of large language model applications by enabling multi-agent collaborations, enhancing inference, and simplifying the development process for LLM applications.', 'role': 'user'}, {'content': \"Click the 'Getting Started' result\", 'role': 'assistant'}, {'content': 'Address: https://microsoft.github.io/autogen/docs/Getting-Started/\\nViewport position: Showing page 1 of 2.\\n=======================\\n[Skip to main content](#__docusaurus_skipToContent_fallback)[![AutoGen](/autogen/img/ag.svg)**AutoGen**](/autogen/)[Docs](/autogen/docs/Getting-Started)[SDK](/autogen/docs/reference/agentchat/conversable_agent)[Blog](/autogen/blog)[FAQ](/autogen/docs/FAQ)[Examples](/autogen/docs/Examples)[Resources](#)* [Ecosystem](/autogen/docs/Ecosystem)\\n* [Gallery](/autogen/docs/Gallery)\\n[Other Languages](#)* [Dotnet](https://microsoft.github.io/autogen-for-net/)\\n[GitHub](https://github.com/microsoft/autogen)`ctrl``K`[![AutoGen](/autogen/img/ag.svg)**AutoGen**](/autogen/)* [Docs](/autogen/docs/Getting-Started)\\n* [SDK](/autogen/docs/reference/agentchat/conversable_agent)\\n* [Blog](/autogen/blog)\\n* [FAQ](/autogen/docs/FAQ)\\n* [Examples](/autogen/docs/Examples)\\n* Resources\\n* Other Languages\\n* [GitHub](https://github.com/microsoft/autogen)\\n← Back to main menu* [Getting Started](/autogen/docs/Getting-Started)\\n* [Installation](/autogen/docs/installation/)\\n* [LLM Configuration](/autogen/docs/llm_configuration)\\n* [Use Cases](#)\\n* [Contributing](/autogen/docs/Contribute)\\n* [Research](/autogen/docs/Research)\\n* [Migration Guide](/autogen/docs/Migration-Guide)\\n* \\n* Getting Started\\nOn this pageGetting Started\\n===============\\n\\nAutoGen is a framework that enables development of LLM applications using multiple agents that can converse with each other to solve tasks. AutoGen agents are customizable, conversable, and seamlessly allow human participation. They can operate in various modes that employ combinations of LLMs, human inputs, and tools.\\n\\n![AutoGen Overview](/autogen/assets/images/autogen_agentchat-250ca64b77b87e70d34766a080bf6ba8.png)\\n\\n### Main Features[\\u200b](#main-features \"Direct link to Main Features\")\\n\\n* AutoGen enables building next-gen LLM applications based on [multi-agent conversations](https://microsoft.github.io/autogen/docs/Use-Cases/agent_chat) with minimal effort. It simplifies the orchestration, automation, and optimization of a complex LLM workflow. It maximizes the performance of LLM models and overcomes their weaknesses.\\n* It supports [diverse conversation patterns](https://microsoft.github.io/autogen/docs/Use-Cases/agent_chat#supporting-diverse-conversation-patterns) for complex workflows. With customizable and conversable agents, developers can use AutoGen to build a wide range of conversation patterns concerning conversation autonomy,\\nthe number of agents, and agent conversation topology.\\n* It provides a collection of working systems with different complexities. These systems span a [wide range of applications](https://microsoft.github.io/autogen/docs/Use-Cases/agent_chat#diverse-applications-implemented-with-autogen) from various domains and complexities. This demonstrates how AutoGen can easily support diverse conversation patterns.\\n* AutoGen provides [enhanced LLM inference](https://microsoft.github.io/autogen/docs/Use-Cases/enhanced_inference#api-unification). It offers utilities like API unification and caching, and advanced usage patterns, such as error handling, multi-config inference, context programming, etc.\\n\\nAutoGen is powered by collaborative [research studies](/autogen/docs/Research) from Microsoft, Penn State University, and University of Washington.\\n\\n### Quickstart[\\u200b](#quickstart \"Direct link to Quickstart\")\\n\\nInstall from pip: `pip install pyautogen`. Find more options in [Installation](/autogen/docs/installation/).\\nFor [code execution](/autogen/docs/FAQ#code-execution), we strongly recommend installing the python docker package, and using docker.\\n\\n#### Multi-Agent Conversation Framework[\\u200b](#multi-agent-conversation-framework \"Direct link to Multi-Agent Conversation Framework\")\\n\\nAutogen enables the next-gen LLM applications with a generic multi-agent conversation framework. It offers customizable and conversable agents which integrate LLMs, tools, and humans.\\nBy automating chat among multiple capable agents, one can easily make them collectively perform tasks autonomously or with human feedback, including tasks that require using tools via code. For [example](https://github.com/microsoft/autogen/blob/main/test/two', 'role': 'user'}], summary='Address: https://microsoft.github.io/autogen/docs/Getting-Started/\\nViewport position: Showing page 1 of 2.\\n=======================\\n[Skip to main content](#__docusaurus_skipToContent_fallback)[![AutoGen](/autogen/img/ag.svg)**AutoGen**](/autogen/)[Docs](/autogen/docs/Getting-Started)[SDK](/autogen/docs/reference/agentchat/conversable_agent)[Blog](/autogen/blog)[FAQ](/autogen/docs/FAQ)[Examples](/autogen/docs/Examples)[Resources](#)* [Ecosystem](/autogen/docs/Ecosystem)\\n* [Gallery](/autogen/docs/Gallery)\\n[Other Languages](#)* [Dotnet](https://microsoft.github.io/autogen-for-net/)\\n[GitHub](https://github.com/microsoft/autogen)`ctrl``K`[![AutoGen](/autogen/img/ag.svg)**AutoGen**](/autogen/)* [Docs](/autogen/docs/Getting-Started)\\n* [SDK](/autogen/docs/reference/agentchat/conversable_agent)\\n* [Blog](/autogen/blog)\\n* [FAQ](/autogen/docs/FAQ)\\n* [Examples](/autogen/docs/Examples)\\n* Resources\\n* Other Languages\\n* [GitHub](https://github.com/microsoft/autogen)\\n← Back to main menu* [Getting Started](/autogen/docs/Getting-Started)\\n* [Installation](/autogen/docs/installation/)\\n* [LLM Configuration](/autogen/docs/llm_configuration)\\n* [Use Cases](#)\\n* [Contributing](/autogen/docs/Contribute)\\n* [Research](/autogen/docs/Research)\\n* [Migration Guide](/autogen/docs/Migration-Guide)\\n* \\n* Getting Started\\nOn this pageGetting Started\\n===============\\n\\nAutoGen is a framework that enables development of LLM applications using multiple agents that can converse with each other to solve tasks. AutoGen agents are customizable, conversable, and seamlessly allow human participation. They can operate in various modes that employ combinations of LLMs, human inputs, and tools.\\n\\n![AutoGen Overview](/autogen/assets/images/autogen_agentchat-250ca64b77b87e70d34766a080bf6ba8.png)\\n\\n### Main Features[\\u200b](#main-features \"Direct link to Main Features\")\\n\\n* AutoGen enables building next-gen LLM applications based on [multi-agent conversations](https://microsoft.github.io/autogen/docs/Use-Cases/agent_chat) with minimal effort. It simplifies the orchestration, automation, and optimization of a complex LLM workflow. It maximizes the performance of LLM models and overcomes their weaknesses.\\n* It supports [diverse conversation patterns](https://microsoft.github.io/autogen/docs/Use-Cases/agent_chat#supporting-diverse-conversation-patterns) for complex workflows. With customizable and conversable agents, developers can use AutoGen to build a wide range of conversation patterns concerning conversation autonomy,\\nthe number of agents, and agent conversation topology.\\n* It provides a collection of working systems with different complexities. These systems span a [wide range of applications](https://microsoft.github.io/autogen/docs/Use-Cases/agent_chat#diverse-applications-implemented-with-autogen) from various domains and complexities. This demonstrates how AutoGen can easily support diverse conversation patterns.\\n* AutoGen provides [enhanced LLM inference](https://microsoft.github.io/autogen/docs/Use-Cases/enhanced_inference#api-unification). It offers utilities like API unification and caching, and advanced usage patterns, such as error handling, multi-config inference, context programming, etc.\\n\\nAutoGen is powered by collaborative [research studies](/autogen/docs/Research) from Microsoft, Penn State University, and University of Washington.\\n\\n### Quickstart[\\u200b](#quickstart \"Direct link to Quickstart\")\\n\\nInstall from pip: `pip install pyautogen`. Find more options in [Installation](/autogen/docs/installation/).\\nFor [code execution](/autogen/docs/FAQ#code-execution), we strongly recommend installing the python docker package, and using docker.\\n\\n#### Multi-Agent Conversation Framework[\\u200b](#multi-agent-conversation-framework \"Direct link to Multi-Agent Conversation Framework\")\\n\\nAutogen enables the next-gen LLM applications with a generic multi-agent conversation framework. It offers customizable and conversable agents which integrate LLMs, tools, and humans.\\nBy automating chat among multiple capable agents, one can easily make them collectively perform tasks autonomously or with human feedback, including tasks that require using tools via code. For [example](https://github.com/microsoft/autogen/blob/main/test/two', cost=({'total_cost': 0}, {'total_cost': 0}), human_input=[])"
      ]
     },
     "execution_count": 16,
     "metadata": {},
     "output_type": "execute_result"
    }
   ],
   "source": [
    "task3 = \"Click the 'Getting Started' result\"\n",
    "user_proxy.initiate_chat(web_surfer, message=task3, clear_history=False)"
   ]
  }
 ],
 "metadata": {
  "kernelspec": {
   "display_name": "Python 3 (ipykernel)",
   "language": "python",
   "name": "python3"
  },
  "language_info": {
   "codemirror_mode": {
    "name": "ipython",
    "version": 3
   },
   "file_extension": ".py",
   "mimetype": "text/x-python",
   "name": "python",
   "nbconvert_exporter": "python",
   "pygments_lexer": "ipython3",
   "version": "3.10.12"
  }
 },
 "nbformat": 4,
 "nbformat_minor": 4
}
